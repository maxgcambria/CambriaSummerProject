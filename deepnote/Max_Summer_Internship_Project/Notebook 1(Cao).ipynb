{
  "cells": [
    {
      "cell_type": "markdown",
      "source": "https://towardsdatascience.com/the-k-prototype-as-clustering-algorithm-for-mixed-data-type-categorical-and-numerical-fe7c50538ebb",
      "metadata": {
        "formattedRanges": [
          {
            "url": "https://towardsdatascience.com/the-k-prototype-as-clustering-algorithm-for-mixed-data-type-categorical-and-numerical-fe7c50538ebb",
            "type": "link",
            "ranges": [],
            "toCodePoint": 129,
            "fromCodePoint": 129
          }
        ],
        "cell_id": "8911d6d514e84bd1b06a20e4997f7d59",
        "deepnote_cell_type": "text-cell-p"
      }
    },
    {
      "cell_type": "markdown",
      "source": "",
      "metadata": {
        "formattedRanges": [],
        "cell_id": "213a47a3730e45f5be236d0af9486052",
        "deepnote_cell_type": "text-cell-p"
      }
    },
    {
      "cell_type": "markdown",
      "source": "# Import Libraries ",
      "metadata": {
        "formattedRanges": [],
        "cell_id": "ab3e79140b464cb3adf51fc6c5c1fd8c",
        "deepnote_cell_type": "text-cell-h1"
      }
    },
    {
      "cell_type": "code",
      "source": "#!pip install pandas\n#!pip install numpy\n#!pip install matplotlib\n!pip install plotnine\n!pip install kmodes\n\nfrom sklearn.cluster import KMeans\nfrom sklearn import metrics\nfrom scipy.spatial.distance import cdist\n# Import module for data manipulation\nimport pandas as pd\n# Import datetime\nimport datetime as dt \n# Import module for linear algebra\nimport numpy as np\n# Import module for data visualization\nfrom plotnine import *\nimport plotnine\nimport matplotlib \nimport matplotlib.pyplot as plt\n# Import module for k-protoype cluster\nfrom kmodes.kprototypes import KPrototypes\n# Ignore warnings\nimport warnings\nwarnings.filterwarnings('ignore', category = FutureWarning)\n# Format scientific notation from Pandas\npd.set_option('display.float_format', lambda x: '%.3f' % x)",
      "metadata": {
        "source_hash": "5f6f63b6",
        "execution_start": 1687788925861,
        "execution_millis": 25166,
        "is_output_hidden": true,
        "deepnote_to_be_reexecuted": false,
        "deepnote_app_is_output_hidden": true,
        "cell_id": "d6b36a3b86694eb88e56423322547366",
        "deepnote_cell_type": "code"
      },
      "outputs": [
        {
          "name": "stdout",
          "text": "Collecting plotnine\n  Using cached plotnine-0.12.1-py3-none-any.whl (1.3 MB)\nRequirement already satisfied: numpy>=1.23.0 in /shared-libs/python3.9/py/lib/python3.9/site-packages (from plotnine) (1.23.4)\nRequirement already satisfied: scipy>=1.5.0 in /shared-libs/python3.9/py/lib/python3.9/site-packages (from plotnine) (1.9.3)\nRequirement already satisfied: matplotlib>=3.6.0 in /shared-libs/python3.9/py/lib/python3.9/site-packages (from plotnine) (3.6.0)\nCollecting statsmodels>=0.14.0\n  Using cached statsmodels-0.14.0-cp39-cp39-manylinux_2_17_x86_64.manylinux2014_x86_64.whl (10.1 MB)\nCollecting mizani>=0.9.0\n  Using cached mizani-0.9.2-py3-none-any.whl (73 kB)\nCollecting pandas>=1.5.0\n  Using cached pandas-2.0.2-cp39-cp39-manylinux_2_17_x86_64.manylinux2014_x86_64.whl (12.4 MB)\nCollecting patsy>=0.5.1\n  Using cached patsy-0.5.3-py2.py3-none-any.whl (233 kB)\nRequirement already satisfied: kiwisolver>=1.0.1 in /shared-libs/python3.9/py/lib/python3.9/site-packages (from matplotlib>=3.6.0->plotnine) (1.4.4)\nRequirement already satisfied: python-dateutil>=2.7 in /shared-libs/python3.9/py-core/lib/python3.9/site-packages (from matplotlib>=3.6.0->plotnine) (2.8.2)\nRequirement already satisfied: pillow>=6.2.0 in /shared-libs/python3.9/py/lib/python3.9/site-packages (from matplotlib>=3.6.0->plotnine) (9.2.0)\nRequirement already satisfied: pyparsing>=2.2.1 in /shared-libs/python3.9/py-core/lib/python3.9/site-packages (from matplotlib>=3.6.0->plotnine) (3.0.9)\nRequirement already satisfied: contourpy>=1.0.1 in /shared-libs/python3.9/py/lib/python3.9/site-packages (from matplotlib>=3.6.0->plotnine) (1.0.5)\nRequirement already satisfied: cycler>=0.10 in /shared-libs/python3.9/py/lib/python3.9/site-packages (from matplotlib>=3.6.0->plotnine) (0.11.0)\nRequirement already satisfied: fonttools>=4.22.0 in /shared-libs/python3.9/py/lib/python3.9/site-packages (from matplotlib>=3.6.0->plotnine) (4.37.4)\nRequirement already satisfied: packaging>=20.0 in /shared-libs/python3.9/py-core/lib/python3.9/site-packages (from matplotlib>=3.6.0->plotnine) (21.3)\nRequirement already satisfied: pytz>=2020.1 in /shared-libs/python3.9/py/lib/python3.9/site-packages (from pandas>=1.5.0->plotnine) (2022.5)\nRequirement already satisfied: tzdata>=2022.1 in /shared-libs/python3.9/py/lib/python3.9/site-packages (from pandas>=1.5.0->plotnine) (2022.5)\nRequirement already satisfied: six in /shared-libs/python3.9/py-core/lib/python3.9/site-packages (from patsy>=0.5.1->plotnine) (1.16.0)\nInstalling collected packages: patsy, pandas, statsmodels, mizani, plotnine\n  Attempting uninstall: pandas\n    Found existing installation: pandas 1.2.5\n    Not uninstalling pandas at /shared-libs/python3.9/py/lib/python3.9/site-packages, outside environment /root/venv\n    Can't uninstall 'pandas'. No files were found to uninstall.\nSuccessfully installed mizani-0.9.2 pandas-2.0.2 patsy-0.5.3 plotnine-0.12.1 statsmodels-0.14.0\n\u001b[33mWARNING: You are using pip version 22.0.4; however, version 23.1.2 is available.\nYou should consider upgrading via the '/root/venv/bin/python -m pip install --upgrade pip' command.\u001b[0m\u001b[33m\n\u001b[0mRequirement already satisfied: kmodes in /root/venv/lib/python3.9/site-packages (0.12.2)\nRequirement already satisfied: numpy>=1.10.4 in /shared-libs/python3.9/py/lib/python3.9/site-packages (from kmodes) (1.23.4)\nRequirement already satisfied: scikit-learn>=0.22.0 in /shared-libs/python3.9/py/lib/python3.9/site-packages (from kmodes) (1.1.2)\nRequirement already satisfied: joblib>=0.11 in /shared-libs/python3.9/py/lib/python3.9/site-packages (from kmodes) (1.2.0)\nRequirement already satisfied: scipy>=0.13.3 in /shared-libs/python3.9/py/lib/python3.9/site-packages (from kmodes) (1.9.3)\nRequirement already satisfied: threadpoolctl>=2.0.0 in /shared-libs/python3.9/py/lib/python3.9/site-packages (from scikit-learn>=0.22.0->kmodes) (3.1.0)\n\u001b[33mWARNING: You are using pip version 22.0.4; however, version 23.1.2 is available.\nYou should consider upgrading via the '/root/venv/bin/python -m pip install --upgrade pip' command.\u001b[0m\u001b[33m\n\u001b[0m",
          "output_type": "stream"
        }
      ],
      "execution_count": 2
    },
    {
      "cell_type": "code",
      "source": "# Load the data\ndf = pd.read_csv(r'clienttable.csv')\n# The dimension of data\nprint('Dimension data: {} rows and {} columns'.format(len(df), len(df.columns)))\n# Print the first 5 rows\ndf.head()\n\n\n",
      "metadata": {
        "source_hash": "710d2941",
        "execution_start": 1687789043530,
        "execution_millis": 278,
        "is_output_hidden": false,
        "deepnote_to_be_reexecuted": false,
        "deepnote_app_is_output_hidden": true,
        "cell_id": "5a16c35a1c1d452a91418a05a8325142",
        "deepnote_cell_type": "code"
      },
      "outputs": [
        {
          "name": "stdout",
          "text": "Dimension data: 38912 rows and 26 columns\n",
          "output_type": "stream"
        },
        {
          "output_type": "execute_result",
          "execution_count": 6,
          "data": {
            "application/vnd.deepnote.dataframe.v3+json": {
              "column_count": 26,
              "row_count": 5,
              "columns": [
                {
                  "name": "client_id",
                  "dtype": "float64",
                  "stats": {
                    "unique_count": 4,
                    "nan_count": 1,
                    "min": "1000008371.0",
                    "max": "1000020437.0",
                    "histogram": [
                      {
                        "bin_start": 1000008371,
                        "bin_end": 1000009577.6,
                        "count": 1
                      },
                      {
                        "bin_start": 1000009577.6,
                        "bin_end": 1000010784.2,
                        "count": 0
                      },
                      {
                        "bin_start": 1000010784.2,
                        "bin_end": 1000011990.8,
                        "count": 0
                      },
                      {
                        "bin_start": 1000011990.8,
                        "bin_end": 1000013197.4,
                        "count": 0
                      },
                      {
                        "bin_start": 1000013197.4,
                        "bin_end": 1000014404,
                        "count": 0
                      },
                      {
                        "bin_start": 1000014404,
                        "bin_end": 1000015610.6,
                        "count": 1
                      },
                      {
                        "bin_start": 1000015610.6,
                        "bin_end": 1000016817.2,
                        "count": 0
                      },
                      {
                        "bin_start": 1000016817.2,
                        "bin_end": 1000018023.8,
                        "count": 0
                      },
                      {
                        "bin_start": 1000018023.8,
                        "bin_end": 1000019230.4,
                        "count": 0
                      },
                      {
                        "bin_start": 1000019230.4,
                        "bin_end": 1000020437,
                        "count": 2
                      }
                    ]
                  }
                },
                {
                  "name": "country",
                  "dtype": "object",
                  "stats": {
                    "unique_count": 1,
                    "nan_count": 0,
                    "categories": [
                      {
                        "name": "United States",
                        "count": 5
                      }
                    ]
                  }
                },
                {
                  "name": "state",
                  "dtype": "object",
                  "stats": {
                    "unique_count": 4,
                    "nan_count": 0,
                    "categories": [
                      {
                        "name": "California",
                        "count": 2
                      },
                      {
                        "name": "Wisconsin",
                        "count": 1
                      },
                      {
                        "name": "2 others",
                        "count": 2
                      }
                    ]
                  }
                },
                {
                  "name": "city",
                  "dtype": "object",
                  "stats": {
                    "unique_count": 5,
                    "nan_count": 0,
                    "categories": [
                      {
                        "name": "Washington",
                        "count": 1
                      },
                      {
                        "name": "Orono",
                        "count": 1
                      },
                      {
                        "name": "3 others",
                        "count": 3
                      }
                    ]
                  }
                },
                {
                  "name": "device",
                  "dtype": "object",
                  "stats": {
                    "unique_count": 2,
                    "nan_count": 0,
                    "categories": [
                      {
                        "name": "mobile",
                        "count": 3
                      },
                      {
                        "name": "desktop",
                        "count": 2
                      }
                    ]
                  }
                },
                {
                  "name": "brand_name",
                  "dtype": "object",
                  "stats": {
                    "unique_count": 3,
                    "nan_count": 0,
                    "categories": [
                      {
                        "name": "Apple",
                        "count": 3
                      },
                      {
                        "name": "OnePlus",
                        "count": 1
                      },
                      {
                        "name": "Coolpad",
                        "count": 1
                      }
                    ]
                  }
                },
                {
                  "name": "model_name",
                  "dtype": "object",
                  "stats": {
                    "unique_count": 3,
                    "nan_count": 0,
                    "categories": [
                      {
                        "name": "iPhone",
                        "count": 2
                      },
                      {
                        "name": "Safari",
                        "count": 2
                      },
                      {
                        "name": "CP3320AS2",
                        "count": 1
                      }
                    ]
                  }
                },
                {
                  "name": "operating_system",
                  "dtype": "object",
                  "stats": {
                    "unique_count": 3,
                    "nan_count": 0,
                    "categories": [
                      {
                        "name": "iOS",
                        "count": 2
                      },
                      {
                        "name": "Macintosh",
                        "count": 2
                      },
                      {
                        "name": "Android",
                        "count": 1
                      }
                    ]
                  }
                },
                {
                  "name": "operating_system_version",
                  "dtype": "object",
                  "stats": {
                    "unique_count": 4,
                    "nan_count": 0,
                    "categories": [
                      {
                        "name": "iOS 16.5",
                        "count": 2
                      },
                      {
                        "name": "Macintosh Intel 13.0",
                        "count": 1
                      },
                      {
                        "name": "2 others",
                        "count": 2
                      }
                    ]
                  }
                },
                {
                  "name": "total_event_count",
                  "dtype": "int64",
                  "stats": {
                    "unique_count": 4,
                    "nan_count": 0,
                    "min": "3",
                    "max": "72",
                    "histogram": [
                      {
                        "bin_start": 3,
                        "bin_end": 9.9,
                        "count": 4
                      },
                      {
                        "bin_start": 9.9,
                        "bin_end": 16.8,
                        "count": 0
                      },
                      {
                        "bin_start": 16.8,
                        "bin_end": 23.700000000000003,
                        "count": 0
                      },
                      {
                        "bin_start": 23.700000000000003,
                        "bin_end": 30.6,
                        "count": 0
                      },
                      {
                        "bin_start": 30.6,
                        "bin_end": 37.5,
                        "count": 0
                      },
                      {
                        "bin_start": 37.5,
                        "bin_end": 44.400000000000006,
                        "count": 0
                      },
                      {
                        "bin_start": 44.400000000000006,
                        "bin_end": 51.300000000000004,
                        "count": 0
                      },
                      {
                        "bin_start": 51.300000000000004,
                        "bin_end": 58.2,
                        "count": 0
                      },
                      {
                        "bin_start": 58.2,
                        "bin_end": 65.1,
                        "count": 0
                      },
                      {
                        "bin_start": 65.1,
                        "bin_end": 72,
                        "count": 1
                      }
                    ]
                  }
                },
                {
                  "name": "first_touch",
                  "dtype": "object",
                  "stats": {
                    "unique_count": 5,
                    "nan_count": 0,
                    "categories": [
                      {
                        "name": "2023-05-18 11:23:14.122913 UTC",
                        "count": 1
                      },
                      {
                        "name": "2023-05-19 18:18:15.419439 UTC",
                        "count": 1
                      },
                      {
                        "name": "3 others",
                        "count": 3
                      }
                    ]
                  }
                },
                {
                  "name": "total_sessions",
                  "dtype": "int64",
                  "stats": {
                    "unique_count": 3,
                    "nan_count": 0,
                    "min": "1",
                    "max": "33",
                    "histogram": [
                      {
                        "bin_start": 1,
                        "bin_end": 4.2,
                        "count": 4
                      },
                      {
                        "bin_start": 4.2,
                        "bin_end": 7.4,
                        "count": 0
                      },
                      {
                        "bin_start": 7.4,
                        "bin_end": 10.600000000000001,
                        "count": 0
                      },
                      {
                        "bin_start": 10.600000000000001,
                        "bin_end": 13.8,
                        "count": 0
                      },
                      {
                        "bin_start": 13.8,
                        "bin_end": 17,
                        "count": 0
                      },
                      {
                        "bin_start": 17,
                        "bin_end": 20.200000000000003,
                        "count": 0
                      },
                      {
                        "bin_start": 20.200000000000003,
                        "bin_end": 23.400000000000002,
                        "count": 0
                      },
                      {
                        "bin_start": 23.400000000000002,
                        "bin_end": 26.6,
                        "count": 0
                      },
                      {
                        "bin_start": 26.6,
                        "bin_end": 29.8,
                        "count": 0
                      },
                      {
                        "bin_start": 29.8,
                        "bin_end": 33,
                        "count": 1
                      }
                    ]
                  }
                },
                {
                  "name": "total_pageviews",
                  "dtype": "int64",
                  "stats": {
                    "unique_count": 3,
                    "nan_count": 0,
                    "min": "2",
                    "max": "39",
                    "histogram": [
                      {
                        "bin_start": 2,
                        "bin_end": 5.7,
                        "count": 4
                      },
                      {
                        "bin_start": 5.7,
                        "bin_end": 9.4,
                        "count": 0
                      },
                      {
                        "bin_start": 9.4,
                        "bin_end": 13.100000000000001,
                        "count": 0
                      },
                      {
                        "bin_start": 13.100000000000001,
                        "bin_end": 16.8,
                        "count": 0
                      },
                      {
                        "bin_start": 16.8,
                        "bin_end": 20.5,
                        "count": 0
                      },
                      {
                        "bin_start": 20.5,
                        "bin_end": 24.200000000000003,
                        "count": 0
                      },
                      {
                        "bin_start": 24.200000000000003,
                        "bin_end": 27.900000000000002,
                        "count": 0
                      },
                      {
                        "bin_start": 27.900000000000002,
                        "bin_end": 31.6,
                        "count": 0
                      },
                      {
                        "bin_start": 31.6,
                        "bin_end": 35.300000000000004,
                        "count": 0
                      },
                      {
                        "bin_start": 35.300000000000004,
                        "bin_end": 39,
                        "count": 1
                      }
                    ]
                  }
                },
                {
                  "name": "total_purchases",
                  "dtype": "int64",
                  "stats": {
                    "unique_count": 1,
                    "nan_count": 0,
                    "min": "0",
                    "max": "0",
                    "histogram": [
                      {
                        "bin_start": -0.5,
                        "bin_end": -0.4,
                        "count": 0
                      },
                      {
                        "bin_start": -0.4,
                        "bin_end": -0.3,
                        "count": 0
                      },
                      {
                        "bin_start": -0.3,
                        "bin_end": -0.19999999999999996,
                        "count": 0
                      },
                      {
                        "bin_start": -0.19999999999999996,
                        "bin_end": -0.09999999999999998,
                        "count": 0
                      },
                      {
                        "bin_start": -0.09999999999999998,
                        "bin_end": 0,
                        "count": 0
                      },
                      {
                        "bin_start": 0,
                        "bin_end": 0.10000000000000009,
                        "count": 5
                      },
                      {
                        "bin_start": 0.10000000000000009,
                        "bin_end": 0.20000000000000007,
                        "count": 0
                      },
                      {
                        "bin_start": 0.20000000000000007,
                        "bin_end": 0.30000000000000004,
                        "count": 0
                      },
                      {
                        "bin_start": 0.30000000000000004,
                        "bin_end": 0.4,
                        "count": 0
                      },
                      {
                        "bin_start": 0.4,
                        "bin_end": 0.5,
                        "count": 0
                      }
                    ]
                  }
                },
                {
                  "name": "total_trade_lead_form_submit",
                  "dtype": "int64",
                  "stats": {
                    "unique_count": 1,
                    "nan_count": 0,
                    "min": "0",
                    "max": "0",
                    "histogram": [
                      {
                        "bin_start": -0.5,
                        "bin_end": -0.4,
                        "count": 0
                      },
                      {
                        "bin_start": -0.4,
                        "bin_end": -0.3,
                        "count": 0
                      },
                      {
                        "bin_start": -0.3,
                        "bin_end": -0.19999999999999996,
                        "count": 0
                      },
                      {
                        "bin_start": -0.19999999999999996,
                        "bin_end": -0.09999999999999998,
                        "count": 0
                      },
                      {
                        "bin_start": -0.09999999999999998,
                        "bin_end": 0,
                        "count": 0
                      },
                      {
                        "bin_start": 0,
                        "bin_end": 0.10000000000000009,
                        "count": 5
                      },
                      {
                        "bin_start": 0.10000000000000009,
                        "bin_end": 0.20000000000000007,
                        "count": 0
                      },
                      {
                        "bin_start": 0.20000000000000007,
                        "bin_end": 0.30000000000000004,
                        "count": 0
                      },
                      {
                        "bin_start": 0.30000000000000004,
                        "bin_end": 0.4,
                        "count": 0
                      },
                      {
                        "bin_start": 0.4,
                        "bin_end": 0.5,
                        "count": 0
                      }
                    ]
                  }
                },
                {
                  "name": "total_residentialconsumer_lead_form_submit",
                  "dtype": "int64",
                  "stats": {
                    "unique_count": 1,
                    "nan_count": 0,
                    "min": "0",
                    "max": "0",
                    "histogram": [
                      {
                        "bin_start": -0.5,
                        "bin_end": -0.4,
                        "count": 0
                      },
                      {
                        "bin_start": -0.4,
                        "bin_end": -0.3,
                        "count": 0
                      },
                      {
                        "bin_start": -0.3,
                        "bin_end": -0.19999999999999996,
                        "count": 0
                      },
                      {
                        "bin_start": -0.19999999999999996,
                        "bin_end": -0.09999999999999998,
                        "count": 0
                      },
                      {
                        "bin_start": -0.09999999999999998,
                        "bin_end": 0,
                        "count": 0
                      },
                      {
                        "bin_start": 0,
                        "bin_end": 0.10000000000000009,
                        "count": 5
                      },
                      {
                        "bin_start": 0.10000000000000009,
                        "bin_end": 0.20000000000000007,
                        "count": 0
                      },
                      {
                        "bin_start": 0.20000000000000007,
                        "bin_end": 0.30000000000000004,
                        "count": 0
                      },
                      {
                        "bin_start": 0.30000000000000004,
                        "bin_end": 0.4,
                        "count": 0
                      },
                      {
                        "bin_start": 0.4,
                        "bin_end": 0.5,
                        "count": 0
                      }
                    ]
                  }
                },
                {
                  "name": "total_contactus_form_submit",
                  "dtype": "int64",
                  "stats": {
                    "unique_count": 1,
                    "nan_count": 0,
                    "min": "0",
                    "max": "0",
                    "histogram": [
                      {
                        "bin_start": -0.5,
                        "bin_end": -0.4,
                        "count": 0
                      },
                      {
                        "bin_start": -0.4,
                        "bin_end": -0.3,
                        "count": 0
                      },
                      {
                        "bin_start": -0.3,
                        "bin_end": -0.19999999999999996,
                        "count": 0
                      },
                      {
                        "bin_start": -0.19999999999999996,
                        "bin_end": -0.09999999999999998,
                        "count": 0
                      },
                      {
                        "bin_start": -0.09999999999999998,
                        "bin_end": 0,
                        "count": 0
                      },
                      {
                        "bin_start": 0,
                        "bin_end": 0.10000000000000009,
                        "count": 5
                      },
                      {
                        "bin_start": 0.10000000000000009,
                        "bin_end": 0.20000000000000007,
                        "count": 0
                      },
                      {
                        "bin_start": 0.20000000000000007,
                        "bin_end": 0.30000000000000004,
                        "count": 0
                      },
                      {
                        "bin_start": 0.30000000000000004,
                        "bin_end": 0.4,
                        "count": 0
                      },
                      {
                        "bin_start": 0.4,
                        "bin_end": 0.5,
                        "count": 0
                      }
                    ]
                  }
                },
                {
                  "name": "total_engagement_time",
                  "dtype": "float64",
                  "stats": {
                    "unique_count": 3,
                    "nan_count": 2,
                    "min": "0.004",
                    "max": "211.149",
                    "histogram": [
                      {
                        "bin_start": 0.004,
                        "bin_end": 21.1185,
                        "count": 2
                      },
                      {
                        "bin_start": 21.1185,
                        "bin_end": 42.233,
                        "count": 0
                      },
                      {
                        "bin_start": 42.233,
                        "bin_end": 63.3475,
                        "count": 0
                      },
                      {
                        "bin_start": 63.3475,
                        "bin_end": 84.462,
                        "count": 0
                      },
                      {
                        "bin_start": 84.462,
                        "bin_end": 105.5765,
                        "count": 0
                      },
                      {
                        "bin_start": 105.5765,
                        "bin_end": 126.691,
                        "count": 0
                      },
                      {
                        "bin_start": 126.691,
                        "bin_end": 147.8055,
                        "count": 0
                      },
                      {
                        "bin_start": 147.8055,
                        "bin_end": 168.92,
                        "count": 0
                      },
                      {
                        "bin_start": 168.92,
                        "bin_end": 190.03449999999998,
                        "count": 0
                      },
                      {
                        "bin_start": 190.03449999999998,
                        "bin_end": 211.149,
                        "count": 1
                      }
                    ]
                  }
                },
                {
                  "name": "engaged_sessions",
                  "dtype": "int64",
                  "stats": {
                    "unique_count": 2,
                    "nan_count": 0,
                    "min": "0",
                    "max": "4",
                    "histogram": [
                      {
                        "bin_start": 0,
                        "bin_end": 0.4,
                        "count": 4
                      },
                      {
                        "bin_start": 0.4,
                        "bin_end": 0.8,
                        "count": 0
                      },
                      {
                        "bin_start": 0.8,
                        "bin_end": 1.2000000000000002,
                        "count": 0
                      },
                      {
                        "bin_start": 1.2000000000000002,
                        "bin_end": 1.6,
                        "count": 0
                      },
                      {
                        "bin_start": 1.6,
                        "bin_end": 2,
                        "count": 0
                      },
                      {
                        "bin_start": 2,
                        "bin_end": 2.4000000000000004,
                        "count": 0
                      },
                      {
                        "bin_start": 2.4000000000000004,
                        "bin_end": 2.8000000000000003,
                        "count": 0
                      },
                      {
                        "bin_start": 2.8000000000000003,
                        "bin_end": 3.2,
                        "count": 0
                      },
                      {
                        "bin_start": 3.2,
                        "bin_end": 3.6,
                        "count": 0
                      },
                      {
                        "bin_start": 3.6,
                        "bin_end": 4,
                        "count": 1
                      }
                    ]
                  }
                },
                {
                  "name": "avg_events_per_session",
                  "dtype": "float64",
                  "stats": {
                    "unique_count": 4,
                    "nan_count": 0,
                    "min": "1.666666667",
                    "max": "4.0",
                    "histogram": [
                      {
                        "bin_start": 1.666666667,
                        "bin_end": 1.9000000003000002,
                        "count": 2
                      },
                      {
                        "bin_start": 1.9000000003000002,
                        "bin_end": 2.1333333336,
                        "count": 0
                      },
                      {
                        "bin_start": 2.1333333336,
                        "bin_end": 2.3666666669,
                        "count": 0
                      },
                      {
                        "bin_start": 2.3666666669,
                        "bin_end": 2.6000000002,
                        "count": 0
                      },
                      {
                        "bin_start": 2.6000000002,
                        "bin_end": 2.8333333334999997,
                        "count": 0
                      },
                      {
                        "bin_start": 2.8333333334999997,
                        "bin_end": 3.0666666667999998,
                        "count": 1
                      },
                      {
                        "bin_start": 3.0666666667999998,
                        "bin_end": 3.3000000001,
                        "count": 0
                      },
                      {
                        "bin_start": 3.3000000001,
                        "bin_end": 3.5333333334,
                        "count": 0
                      },
                      {
                        "bin_start": 3.5333333334,
                        "bin_end": 3.7666666667,
                        "count": 0
                      },
                      {
                        "bin_start": 3.7666666667,
                        "bin_end": 4,
                        "count": 2
                      }
                    ]
                  }
                },
                {
                  "name": "formatted_first_touch",
                  "dtype": "object",
                  "stats": {
                    "unique_count": 5,
                    "nan_count": 0,
                    "categories": [
                      {
                        "name": "5/18/2023 11:23",
                        "count": 1
                      },
                      {
                        "name": "5/19/2023 18:18",
                        "count": 1
                      },
                      {
                        "name": "3 others",
                        "count": 3
                      }
                    ]
                  }
                },
                {
                  "name": "formatted_engagement_time",
                  "dtype": "object",
                  "stats": {
                    "unique_count": 2,
                    "nan_count": 2,
                    "categories": [
                      {
                        "name": "0:00:00",
                        "count": 2
                      },
                      {
                        "name": "0:03:31",
                        "count": 1
                      },
                      {
                        "name": "Missing",
                        "count": 2
                      }
                    ]
                  }
                },
                {
                  "name": "avg_pageviews_per_session",
                  "dtype": "float64",
                  "stats": {
                    "unique_count": 4,
                    "nan_count": 0,
                    "min": "0.67",
                    "max": "3.0",
                    "histogram": [
                      {
                        "bin_start": 0.67,
                        "bin_end": 0.903,
                        "count": 1
                      },
                      {
                        "bin_start": 0.903,
                        "bin_end": 1.1360000000000001,
                        "count": 0
                      },
                      {
                        "bin_start": 1.1360000000000001,
                        "bin_end": 1.3690000000000002,
                        "count": 1
                      },
                      {
                        "bin_start": 1.3690000000000002,
                        "bin_end": 1.602,
                        "count": 0
                      },
                      {
                        "bin_start": 1.602,
                        "bin_end": 1.835,
                        "count": 0
                      },
                      {
                        "bin_start": 1.835,
                        "bin_end": 2.068,
                        "count": 1
                      },
                      {
                        "bin_start": 2.068,
                        "bin_end": 2.301,
                        "count": 0
                      },
                      {
                        "bin_start": 2.301,
                        "bin_end": 2.5340000000000003,
                        "count": 0
                      },
                      {
                        "bin_start": 2.5340000000000003,
                        "bin_end": 2.767,
                        "count": 0
                      },
                      {
                        "bin_start": 2.767,
                        "bin_end": 3,
                        "count": 2
                      }
                    ]
                  }
                },
                {
                  "name": "engagement_rate",
                  "dtype": "object",
                  "stats": {
                    "unique_count": 2,
                    "nan_count": 0,
                    "categories": [
                      {
                        "name": "0%",
                        "count": 4
                      },
                      {
                        "name": "12.12%",
                        "count": 1
                      }
                    ]
                  }
                },
                {
                  "name": "bounces",
                  "dtype": "int64",
                  "stats": {
                    "unique_count": 3,
                    "nan_count": 0,
                    "min": "1",
                    "max": "29",
                    "histogram": [
                      {
                        "bin_start": 1,
                        "bin_end": 3.8,
                        "count": 4
                      },
                      {
                        "bin_start": 3.8,
                        "bin_end": 6.6,
                        "count": 0
                      },
                      {
                        "bin_start": 6.6,
                        "bin_end": 9.399999999999999,
                        "count": 0
                      },
                      {
                        "bin_start": 9.399999999999999,
                        "bin_end": 12.2,
                        "count": 0
                      },
                      {
                        "bin_start": 12.2,
                        "bin_end": 15,
                        "count": 0
                      },
                      {
                        "bin_start": 15,
                        "bin_end": 17.799999999999997,
                        "count": 0
                      },
                      {
                        "bin_start": 17.799999999999997,
                        "bin_end": 20.599999999999998,
                        "count": 0
                      },
                      {
                        "bin_start": 20.599999999999998,
                        "bin_end": 23.4,
                        "count": 0
                      },
                      {
                        "bin_start": 23.4,
                        "bin_end": 26.2,
                        "count": 0
                      },
                      {
                        "bin_start": 26.2,
                        "bin_end": 29,
                        "count": 1
                      }
                    ]
                  }
                },
                {
                  "name": "bounce_rate",
                  "dtype": "object",
                  "stats": {
                    "unique_count": 2,
                    "nan_count": 0,
                    "categories": [
                      {
                        "name": "100%",
                        "count": 4
                      },
                      {
                        "name": "87.88%",
                        "count": 1
                      }
                    ]
                  }
                },
                {
                  "name": "_deepnote_index_column",
                  "dtype": "int64"
                }
              ],
              "rows": [
                {
                  "client_id": "nan",
                  "country": "United States",
                  "state": "Wisconsin",
                  "city": "Washington",
                  "device": "mobile",
                  "brand_name": "OnePlus",
                  "model_name": "iPhone",
                  "operating_system": "iOS",
                  "operating_system_version": "iOS 16.5",
                  "total_event_count": 72,
                  "first_touch": "2023-05-18 11:23:14.122913 UTC",
                  "total_sessions": 33,
                  "total_pageviews": 39,
                  "total_purchases": 0,
                  "total_trade_lead_form_submit": 0,
                  "total_residentialconsumer_lead_form_submit": 0,
                  "total_contactus_form_submit": 0,
                  "total_engagement_time": 211.149,
                  "engaged_sessions": 4,
                  "avg_events_per_session": 1.9,
                  "formatted_first_touch": "5/18/2023 11:23",
                  "formatted_engagement_time": "0:03:31",
                  "avg_pageviews_per_session": 1.18,
                  "engagement_rate": "12.12%",
                  "bounces": 29,
                  "bounce_rate": "87.88%",
                  "_deepnote_index_column": 0
                },
                {
                  "client_id": 1000008371,
                  "country": "United States",
                  "state": "Minnesota",
                  "city": "Orono",
                  "device": "desktop",
                  "brand_name": "Apple",
                  "model_name": "Safari",
                  "operating_system": "Macintosh",
                  "operating_system_version": "Macintosh Intel 13.0",
                  "total_event_count": 5,
                  "first_touch": "2023-05-19 18:18:15.419439 UTC",
                  "total_sessions": 3,
                  "total_pageviews": 2,
                  "total_purchases": 0,
                  "total_trade_lead_form_submit": 0,
                  "total_residentialconsumer_lead_form_submit": 0,
                  "total_contactus_form_submit": 0,
                  "total_engagement_time": "nan",
                  "engaged_sessions": 0,
                  "avg_events_per_session": 1.666666667,
                  "formatted_first_touch": "5/19/2023 18:18",
                  "formatted_engagement_time": "nan",
                  "avg_pageviews_per_session": 0.67,
                  "engagement_rate": "0%",
                  "bounces": 3,
                  "bounce_rate": "100%",
                  "_deepnote_index_column": 1
                },
                {
                  "client_id": 1000014774,
                  "country": "United States",
                  "state": "California",
                  "city": "Garden Grove",
                  "device": "mobile",
                  "brand_name": "Coolpad",
                  "model_name": "CP3320AS2",
                  "operating_system": "Android",
                  "operating_system_version": "Android 10.0.0",
                  "total_event_count": 4,
                  "first_touch": "2023-06-07 02:39:35.775630 UTC",
                  "total_sessions": 1,
                  "total_pageviews": 3,
                  "total_purchases": 0,
                  "total_trade_lead_form_submit": 0,
                  "total_residentialconsumer_lead_form_submit": 0,
                  "total_contactus_form_submit": 0,
                  "total_engagement_time": 0.028,
                  "engaged_sessions": 0,
                  "avg_events_per_session": 4,
                  "formatted_first_touch": "6/7/2023 2:39",
                  "formatted_engagement_time": "0:00:00",
                  "avg_pageviews_per_session": 3,
                  "engagement_rate": "0%",
                  "bounces": 1,
                  "bounce_rate": "100%",
                  "_deepnote_index_column": 2
                },
                {
                  "client_id": 1000019378,
                  "country": "United States",
                  "state": "Oregon",
                  "city": "Boardman",
                  "device": "desktop",
                  "brand_name": "Apple",
                  "model_name": "Safari",
                  "operating_system": "Macintosh",
                  "operating_system_version": "Macintosh Intel 10.14",
                  "total_event_count": 4,
                  "first_touch": "2023-06-01 20:22:04.158706 UTC",
                  "total_sessions": 1,
                  "total_pageviews": 3,
                  "total_purchases": 0,
                  "total_trade_lead_form_submit": 0,
                  "total_residentialconsumer_lead_form_submit": 0,
                  "total_contactus_form_submit": 0,
                  "total_engagement_time": 0.004,
                  "engaged_sessions": 0,
                  "avg_events_per_session": 4,
                  "formatted_first_touch": "6/1/2023 20:22",
                  "formatted_engagement_time": "0:00:00",
                  "avg_pageviews_per_session": 3,
                  "engagement_rate": "0%",
                  "bounces": 1,
                  "bounce_rate": "100%",
                  "_deepnote_index_column": 3
                },
                {
                  "client_id": 1000020437,
                  "country": "United States",
                  "state": "California",
                  "city": "Shasta Lake",
                  "device": "mobile",
                  "brand_name": "Apple",
                  "model_name": "iPhone",
                  "operating_system": "iOS",
                  "operating_system_version": "iOS 16.5",
                  "total_event_count": 3,
                  "first_touch": "2023-06-11 01:54:14.097470 UTC",
                  "total_sessions": 1,
                  "total_pageviews": 2,
                  "total_purchases": 0,
                  "total_trade_lead_form_submit": 0,
                  "total_residentialconsumer_lead_form_submit": 0,
                  "total_contactus_form_submit": 0,
                  "total_engagement_time": "nan",
                  "engaged_sessions": 0,
                  "avg_events_per_session": 3,
                  "formatted_first_touch": "6/11/2023 1:54",
                  "formatted_engagement_time": "nan",
                  "avg_pageviews_per_session": 2,
                  "engagement_rate": "0%",
                  "bounces": 1,
                  "bounce_rate": "100%",
                  "_deepnote_index_column": 4
                }
              ]
            },
            "text/plain": "       client_id        country       state          city   device brand_name  \\\n0            NaN  United States   Wisconsin    Washington   mobile    OnePlus   \n1 1000008371.000  United States   Minnesota         Orono  desktop      Apple   \n2 1000014774.000  United States  California  Garden Grove   mobile    Coolpad   \n3 1000019378.000  United States      Oregon      Boardman  desktop      Apple   \n4 1000020437.000  United States  California   Shasta Lake   mobile      Apple   \n\n  model_name operating_system operating_system_version  total_event_count  \\\n0     iPhone              iOS                 iOS 16.5                 72   \n1     Safari        Macintosh     Macintosh Intel 13.0                  5   \n2  CP3320AS2          Android           Android 10.0.0                  4   \n3     Safari        Macintosh    Macintosh Intel 10.14                  4   \n4     iPhone              iOS                 iOS 16.5                  3   \n\n   ... total_contactus_form_submit  total_engagement_time  engaged_sessions  \\\n0  ...                           0                211.149                 4   \n1  ...                           0                    NaN                 0   \n2  ...                           0                  0.028                 0   \n3  ...                           0                  0.004                 0   \n4  ...                           0                    NaN                 0   \n\n   avg_events_per_session  formatted_first_touch  formatted_engagement_time  \\\n0                   1.900        5/18/2023 11:23                    0:03:31   \n1                   1.667        5/19/2023 18:18                        NaN   \n2                   4.000          6/7/2023 2:39                    0:00:00   \n3                   4.000         6/1/2023 20:22                    0:00:00   \n4                   3.000         6/11/2023 1:54                        NaN   \n\n   avg_pageviews_per_session  engagement_rate  bounces  bounce_rate  \n0                      1.180           12.12%       29       87.88%  \n1                      0.670               0%        3         100%  \n2                      3.000               0%        1         100%  \n3                      3.000               0%        1         100%  \n4                      2.000               0%        1         100%  \n\n[5 rows x 26 columns]",
            "text/html": "<div>\n<style scoped>\n    .dataframe tbody tr th:only-of-type {\n        vertical-align: middle;\n    }\n\n    .dataframe tbody tr th {\n        vertical-align: top;\n    }\n\n    .dataframe thead th {\n        text-align: right;\n    }\n</style>\n<table border=\"1\" class=\"dataframe\">\n  <thead>\n    <tr style=\"text-align: right;\">\n      <th></th>\n      <th>client_id</th>\n      <th>country</th>\n      <th>state</th>\n      <th>city</th>\n      <th>device</th>\n      <th>brand_name</th>\n      <th>model_name</th>\n      <th>operating_system</th>\n      <th>operating_system_version</th>\n      <th>total_event_count</th>\n      <th>...</th>\n      <th>total_contactus_form_submit</th>\n      <th>total_engagement_time</th>\n      <th>engaged_sessions</th>\n      <th>avg_events_per_session</th>\n      <th>formatted_first_touch</th>\n      <th>formatted_engagement_time</th>\n      <th>avg_pageviews_per_session</th>\n      <th>engagement_rate</th>\n      <th>bounces</th>\n      <th>bounce_rate</th>\n    </tr>\n  </thead>\n  <tbody>\n    <tr>\n      <th>0</th>\n      <td>NaN</td>\n      <td>United States</td>\n      <td>Wisconsin</td>\n      <td>Washington</td>\n      <td>mobile</td>\n      <td>OnePlus</td>\n      <td>iPhone</td>\n      <td>iOS</td>\n      <td>iOS 16.5</td>\n      <td>72</td>\n      <td>...</td>\n      <td>0</td>\n      <td>211.149</td>\n      <td>4</td>\n      <td>1.900</td>\n      <td>5/18/2023 11:23</td>\n      <td>0:03:31</td>\n      <td>1.180</td>\n      <td>12.12%</td>\n      <td>29</td>\n      <td>87.88%</td>\n    </tr>\n    <tr>\n      <th>1</th>\n      <td>1000008371.000</td>\n      <td>United States</td>\n      <td>Minnesota</td>\n      <td>Orono</td>\n      <td>desktop</td>\n      <td>Apple</td>\n      <td>Safari</td>\n      <td>Macintosh</td>\n      <td>Macintosh Intel 13.0</td>\n      <td>5</td>\n      <td>...</td>\n      <td>0</td>\n      <td>NaN</td>\n      <td>0</td>\n      <td>1.667</td>\n      <td>5/19/2023 18:18</td>\n      <td>NaN</td>\n      <td>0.670</td>\n      <td>0%</td>\n      <td>3</td>\n      <td>100%</td>\n    </tr>\n    <tr>\n      <th>2</th>\n      <td>1000014774.000</td>\n      <td>United States</td>\n      <td>California</td>\n      <td>Garden Grove</td>\n      <td>mobile</td>\n      <td>Coolpad</td>\n      <td>CP3320AS2</td>\n      <td>Android</td>\n      <td>Android 10.0.0</td>\n      <td>4</td>\n      <td>...</td>\n      <td>0</td>\n      <td>0.028</td>\n      <td>0</td>\n      <td>4.000</td>\n      <td>6/7/2023 2:39</td>\n      <td>0:00:00</td>\n      <td>3.000</td>\n      <td>0%</td>\n      <td>1</td>\n      <td>100%</td>\n    </tr>\n    <tr>\n      <th>3</th>\n      <td>1000019378.000</td>\n      <td>United States</td>\n      <td>Oregon</td>\n      <td>Boardman</td>\n      <td>desktop</td>\n      <td>Apple</td>\n      <td>Safari</td>\n      <td>Macintosh</td>\n      <td>Macintosh Intel 10.14</td>\n      <td>4</td>\n      <td>...</td>\n      <td>0</td>\n      <td>0.004</td>\n      <td>0</td>\n      <td>4.000</td>\n      <td>6/1/2023 20:22</td>\n      <td>0:00:00</td>\n      <td>3.000</td>\n      <td>0%</td>\n      <td>1</td>\n      <td>100%</td>\n    </tr>\n    <tr>\n      <th>4</th>\n      <td>1000020437.000</td>\n      <td>United States</td>\n      <td>California</td>\n      <td>Shasta Lake</td>\n      <td>mobile</td>\n      <td>Apple</td>\n      <td>iPhone</td>\n      <td>iOS</td>\n      <td>iOS 16.5</td>\n      <td>3</td>\n      <td>...</td>\n      <td>0</td>\n      <td>NaN</td>\n      <td>0</td>\n      <td>3.000</td>\n      <td>6/11/2023 1:54</td>\n      <td>NaN</td>\n      <td>2.000</td>\n      <td>0%</td>\n      <td>1</td>\n      <td>100%</td>\n    </tr>\n  </tbody>\n</table>\n<p>5 rows × 26 columns</p>\n</div>"
          },
          "metadata": {}
        }
      ],
      "execution_count": 6
    },
    {
      "cell_type": "markdown",
      "source": "# Data Inspection",
      "metadata": {
        "formattedRanges": [],
        "cell_id": "66e0a2bb2aae4a6fa165b8f771532565",
        "deepnote_cell_type": "text-cell-h1"
      }
    },
    {
      "cell_type": "code",
      "source": "# Inspect the data type\ndf.info()\n# Inspect the categorical variables\ndf.select_dtypes('object').nunique()\n# Inspect the numerical variables\ndf.describe()\n# Check missing value\ndf.isna().sum()\ndf.describe()",
      "metadata": {
        "source_hash": "201de63c",
        "execution_start": 1687788971974,
        "execution_millis": 409,
        "is_output_hidden": true,
        "deepnote_table_state": {
          "sortBy": [],
          "filters": [],
          "pageSize": 10,
          "pageIndex": 0
        },
        "deepnote_table_loading": false,
        "deepnote_to_be_reexecuted": false,
        "deepnote_app_is_output_hidden": true,
        "cell_id": "888af6a627f748dea6351476098f7af3",
        "deepnote_cell_type": "code"
      },
      "outputs": [
        {
          "name": "stdout",
          "text": "<class 'pandas.core.frame.DataFrame'>\nRangeIndex: 43995 entries, 0 to 43994\nData columns (total 22 columns):\n #   Column                                      Non-Null Count  Dtype  \n---  ------                                      --------------  -----  \n 0   client_id                                   43994 non-null  float64\n 1   country                                     43918 non-null  object \n 2   state                                       43463 non-null  object \n 3   city                                        41510 non-null  object \n 4   device                                      43995 non-null  object \n 5   brand_name                                  43771 non-null  object \n 6   model_name                                  43771 non-null  object \n 7   operating_system                            43986 non-null  object \n 8   operating_system_version                    43995 non-null  object \n 9   total_event_count                           43995 non-null  int64  \n 10  first_touch                                 43995 non-null  object \n 11  total_sessions                              43995 non-null  int64  \n 12  total_pageviews                             43995 non-null  int64  \n 13  total_purchases                             43995 non-null  int64  \n 14  total_trade_lead_form_submit                43995 non-null  int64  \n 15  total_residentialconsumer_lead_form_submit  43995 non-null  int64  \n 16  total_contactus_form_submit                 43995 non-null  int64  \n 17  avg_engagement_time                         0 non-null      float64\n 18  avg_events_per_session                      43887 non-null  float64\n 19  formatted_first_touch                       43995 non-null  object \n 20  avg_engagement_time_hours                   0 non-null      float64\n 21  avg_pageviews_per_session                   43887 non-null  float64\ndtypes: float64(5), int64(7), object(10)\nmemory usage: 7.4+ MB\n",
          "output_type": "stream"
        },
        {
          "output_type": "execute_result",
          "execution_count": 4,
          "data": {
            "application/vnd.deepnote.dataframe.v3+json": {
              "column_count": 12,
              "row_count": 8,
              "columns": [
                {
                  "name": "client_id",
                  "dtype": "float64",
                  "stats": {
                    "unique_count": 8,
                    "nan_count": 0,
                    "min": "43994.0",
                    "max": "1207665453.0",
                    "histogram": [
                      {
                        "bin_start": 43994,
                        "bin_end": 120806139.9,
                        "count": 2
                      },
                      {
                        "bin_start": 120806139.9,
                        "bin_end": 241568285.8,
                        "count": 0
                      },
                      {
                        "bin_start": 241568285.8,
                        "bin_end": 362330431.70000005,
                        "count": 1
                      },
                      {
                        "bin_start": 362330431.70000005,
                        "bin_end": 483092577.6,
                        "count": 0
                      },
                      {
                        "bin_start": 483092577.6,
                        "bin_end": 603854723.5,
                        "count": 0
                      },
                      {
                        "bin_start": 603854723.5,
                        "bin_end": 724616869.4000001,
                        "count": 0
                      },
                      {
                        "bin_start": 724616869.4000001,
                        "bin_end": 845379015.3000001,
                        "count": 0
                      },
                      {
                        "bin_start": 845379015.3000001,
                        "bin_end": 966141161.2,
                        "count": 0
                      },
                      {
                        "bin_start": 966141161.2,
                        "bin_end": 1086903307.1000001,
                        "count": 2
                      },
                      {
                        "bin_start": 1086903307.1000001,
                        "bin_end": 1207665453,
                        "count": 3
                      }
                    ]
                  }
                },
                {
                  "name": "total_event_count",
                  "dtype": "float64",
                  "stats": {
                    "unique_count": 8,
                    "nan_count": 0,
                    "min": "1.0",
                    "max": "43995.0",
                    "histogram": [
                      {
                        "bin_start": 1,
                        "bin_end": 4400.4,
                        "count": 7
                      },
                      {
                        "bin_start": 4400.4,
                        "bin_end": 8799.8,
                        "count": 0
                      },
                      {
                        "bin_start": 8799.8,
                        "bin_end": 13199.199999999999,
                        "count": 0
                      },
                      {
                        "bin_start": 13199.199999999999,
                        "bin_end": 17598.6,
                        "count": 0
                      },
                      {
                        "bin_start": 17598.6,
                        "bin_end": 21998,
                        "count": 0
                      },
                      {
                        "bin_start": 21998,
                        "bin_end": 26397.399999999998,
                        "count": 0
                      },
                      {
                        "bin_start": 26397.399999999998,
                        "bin_end": 30796.799999999996,
                        "count": 0
                      },
                      {
                        "bin_start": 30796.799999999996,
                        "bin_end": 35196.2,
                        "count": 0
                      },
                      {
                        "bin_start": 35196.2,
                        "bin_end": 39595.6,
                        "count": 0
                      },
                      {
                        "bin_start": 39595.6,
                        "bin_end": 43995,
                        "count": 1
                      }
                    ]
                  }
                },
                {
                  "name": "total_sessions",
                  "dtype": "float64",
                  "stats": {
                    "unique_count": 6,
                    "nan_count": 0,
                    "min": "0.0",
                    "max": "43995.0",
                    "histogram": [
                      {
                        "bin_start": 0,
                        "bin_end": 4399.5,
                        "count": 7
                      },
                      {
                        "bin_start": 4399.5,
                        "bin_end": 8799,
                        "count": 0
                      },
                      {
                        "bin_start": 8799,
                        "bin_end": 13198.5,
                        "count": 0
                      },
                      {
                        "bin_start": 13198.5,
                        "bin_end": 17598,
                        "count": 0
                      },
                      {
                        "bin_start": 17598,
                        "bin_end": 21997.5,
                        "count": 0
                      },
                      {
                        "bin_start": 21997.5,
                        "bin_end": 26397,
                        "count": 0
                      },
                      {
                        "bin_start": 26397,
                        "bin_end": 30796.5,
                        "count": 0
                      },
                      {
                        "bin_start": 30796.5,
                        "bin_end": 35196,
                        "count": 0
                      },
                      {
                        "bin_start": 35196,
                        "bin_end": 39595.5,
                        "count": 0
                      },
                      {
                        "bin_start": 39595.5,
                        "bin_end": 43995,
                        "count": 1
                      }
                    ]
                  }
                },
                {
                  "name": "total_pageviews",
                  "dtype": "float64",
                  "stats": {
                    "unique_count": 8,
                    "nan_count": 0,
                    "min": "0.0",
                    "max": "43995.0",
                    "histogram": [
                      {
                        "bin_start": 0,
                        "bin_end": 4399.5,
                        "count": 7
                      },
                      {
                        "bin_start": 4399.5,
                        "bin_end": 8799,
                        "count": 0
                      },
                      {
                        "bin_start": 8799,
                        "bin_end": 13198.5,
                        "count": 0
                      },
                      {
                        "bin_start": 13198.5,
                        "bin_end": 17598,
                        "count": 0
                      },
                      {
                        "bin_start": 17598,
                        "bin_end": 21997.5,
                        "count": 0
                      },
                      {
                        "bin_start": 21997.5,
                        "bin_end": 26397,
                        "count": 0
                      },
                      {
                        "bin_start": 26397,
                        "bin_end": 30796.5,
                        "count": 0
                      },
                      {
                        "bin_start": 30796.5,
                        "bin_end": 35196,
                        "count": 0
                      },
                      {
                        "bin_start": 35196,
                        "bin_end": 39595.5,
                        "count": 0
                      },
                      {
                        "bin_start": 39595.5,
                        "bin_end": 43995,
                        "count": 1
                      }
                    ]
                  }
                },
                {
                  "name": "total_purchases",
                  "dtype": "float64",
                  "stats": {
                    "unique_count": 5,
                    "nan_count": 0,
                    "min": "0.0",
                    "max": "43995.0",
                    "histogram": [
                      {
                        "bin_start": 0,
                        "bin_end": 4399.5,
                        "count": 7
                      },
                      {
                        "bin_start": 4399.5,
                        "bin_end": 8799,
                        "count": 0
                      },
                      {
                        "bin_start": 8799,
                        "bin_end": 13198.5,
                        "count": 0
                      },
                      {
                        "bin_start": 13198.5,
                        "bin_end": 17598,
                        "count": 0
                      },
                      {
                        "bin_start": 17598,
                        "bin_end": 21997.5,
                        "count": 0
                      },
                      {
                        "bin_start": 21997.5,
                        "bin_end": 26397,
                        "count": 0
                      },
                      {
                        "bin_start": 26397,
                        "bin_end": 30796.5,
                        "count": 0
                      },
                      {
                        "bin_start": 30796.5,
                        "bin_end": 35196,
                        "count": 0
                      },
                      {
                        "bin_start": 35196,
                        "bin_end": 39595.5,
                        "count": 0
                      },
                      {
                        "bin_start": 39595.5,
                        "bin_end": 43995,
                        "count": 1
                      }
                    ]
                  }
                },
                {
                  "name": "total_trade_lead_form_submit",
                  "dtype": "float64",
                  "stats": {
                    "unique_count": 5,
                    "nan_count": 0,
                    "min": "0.0",
                    "max": "43995.0",
                    "histogram": [
                      {
                        "bin_start": 0,
                        "bin_end": 4399.5,
                        "count": 7
                      },
                      {
                        "bin_start": 4399.5,
                        "bin_end": 8799,
                        "count": 0
                      },
                      {
                        "bin_start": 8799,
                        "bin_end": 13198.5,
                        "count": 0
                      },
                      {
                        "bin_start": 13198.5,
                        "bin_end": 17598,
                        "count": 0
                      },
                      {
                        "bin_start": 17598,
                        "bin_end": 21997.5,
                        "count": 0
                      },
                      {
                        "bin_start": 21997.5,
                        "bin_end": 26397,
                        "count": 0
                      },
                      {
                        "bin_start": 26397,
                        "bin_end": 30796.5,
                        "count": 0
                      },
                      {
                        "bin_start": 30796.5,
                        "bin_end": 35196,
                        "count": 0
                      },
                      {
                        "bin_start": 35196,
                        "bin_end": 39595.5,
                        "count": 0
                      },
                      {
                        "bin_start": 39595.5,
                        "bin_end": 43995,
                        "count": 1
                      }
                    ]
                  }
                },
                {
                  "name": "total_residentialconsumer_lead_form_submit",
                  "dtype": "float64",
                  "stats": {
                    "unique_count": 5,
                    "nan_count": 0,
                    "min": "0.0",
                    "max": "43995.0",
                    "histogram": [
                      {
                        "bin_start": 0,
                        "bin_end": 4399.5,
                        "count": 7
                      },
                      {
                        "bin_start": 4399.5,
                        "bin_end": 8799,
                        "count": 0
                      },
                      {
                        "bin_start": 8799,
                        "bin_end": 13198.5,
                        "count": 0
                      },
                      {
                        "bin_start": 13198.5,
                        "bin_end": 17598,
                        "count": 0
                      },
                      {
                        "bin_start": 17598,
                        "bin_end": 21997.5,
                        "count": 0
                      },
                      {
                        "bin_start": 21997.5,
                        "bin_end": 26397,
                        "count": 0
                      },
                      {
                        "bin_start": 26397,
                        "bin_end": 30796.5,
                        "count": 0
                      },
                      {
                        "bin_start": 30796.5,
                        "bin_end": 35196,
                        "count": 0
                      },
                      {
                        "bin_start": 35196,
                        "bin_end": 39595.5,
                        "count": 0
                      },
                      {
                        "bin_start": 39595.5,
                        "bin_end": 43995,
                        "count": 1
                      }
                    ]
                  }
                },
                {
                  "name": "total_contactus_form_submit",
                  "dtype": "float64",
                  "stats": {
                    "unique_count": 5,
                    "nan_count": 0,
                    "min": "0.0",
                    "max": "43995.0",
                    "histogram": [
                      {
                        "bin_start": 0,
                        "bin_end": 4399.5,
                        "count": 7
                      },
                      {
                        "bin_start": 4399.5,
                        "bin_end": 8799,
                        "count": 0
                      },
                      {
                        "bin_start": 8799,
                        "bin_end": 13198.5,
                        "count": 0
                      },
                      {
                        "bin_start": 13198.5,
                        "bin_end": 17598,
                        "count": 0
                      },
                      {
                        "bin_start": 17598,
                        "bin_end": 21997.5,
                        "count": 0
                      },
                      {
                        "bin_start": 21997.5,
                        "bin_end": 26397,
                        "count": 0
                      },
                      {
                        "bin_start": 26397,
                        "bin_end": 30796.5,
                        "count": 0
                      },
                      {
                        "bin_start": 30796.5,
                        "bin_end": 35196,
                        "count": 0
                      },
                      {
                        "bin_start": 35196,
                        "bin_end": 39595.5,
                        "count": 0
                      },
                      {
                        "bin_start": 39595.5,
                        "bin_end": 43995,
                        "count": 1
                      }
                    ]
                  }
                },
                {
                  "name": "avg_engagement_time",
                  "dtype": "float64",
                  "stats": {
                    "unique_count": 1,
                    "nan_count": 7,
                    "min": "0.0",
                    "max": "0.0",
                    "histogram": [
                      {
                        "bin_start": -0.5,
                        "bin_end": -0.4,
                        "count": 0
                      },
                      {
                        "bin_start": -0.4,
                        "bin_end": -0.3,
                        "count": 0
                      },
                      {
                        "bin_start": -0.3,
                        "bin_end": -0.19999999999999996,
                        "count": 0
                      },
                      {
                        "bin_start": -0.19999999999999996,
                        "bin_end": -0.09999999999999998,
                        "count": 0
                      },
                      {
                        "bin_start": -0.09999999999999998,
                        "bin_end": 0,
                        "count": 0
                      },
                      {
                        "bin_start": 0,
                        "bin_end": 0.10000000000000009,
                        "count": 1
                      },
                      {
                        "bin_start": 0.10000000000000009,
                        "bin_end": 0.20000000000000007,
                        "count": 0
                      },
                      {
                        "bin_start": 0.20000000000000007,
                        "bin_end": 0.30000000000000004,
                        "count": 0
                      },
                      {
                        "bin_start": 0.30000000000000004,
                        "bin_end": 0.4,
                        "count": 0
                      },
                      {
                        "bin_start": 0.4,
                        "bin_end": 0.5,
                        "count": 0
                      }
                    ]
                  }
                },
                {
                  "name": "avg_events_per_session",
                  "dtype": "float64",
                  "stats": {
                    "unique_count": 8,
                    "nan_count": 0,
                    "min": "1.0",
                    "max": "43887.0",
                    "histogram": [
                      {
                        "bin_start": 1,
                        "bin_end": 4389.6,
                        "count": 7
                      },
                      {
                        "bin_start": 4389.6,
                        "bin_end": 8778.2,
                        "count": 0
                      },
                      {
                        "bin_start": 8778.2,
                        "bin_end": 13166.800000000001,
                        "count": 0
                      },
                      {
                        "bin_start": 13166.800000000001,
                        "bin_end": 17555.4,
                        "count": 0
                      },
                      {
                        "bin_start": 17555.4,
                        "bin_end": 21944,
                        "count": 0
                      },
                      {
                        "bin_start": 21944,
                        "bin_end": 26332.600000000002,
                        "count": 0
                      },
                      {
                        "bin_start": 26332.600000000002,
                        "bin_end": 30721.200000000004,
                        "count": 0
                      },
                      {
                        "bin_start": 30721.200000000004,
                        "bin_end": 35109.8,
                        "count": 0
                      },
                      {
                        "bin_start": 35109.8,
                        "bin_end": 39498.4,
                        "count": 0
                      },
                      {
                        "bin_start": 39498.4,
                        "bin_end": 43887,
                        "count": 1
                      }
                    ]
                  }
                },
                {
                  "name": "avg_engagement_time_hours",
                  "dtype": "float64",
                  "stats": {
                    "unique_count": 1,
                    "nan_count": 7,
                    "min": "0.0",
                    "max": "0.0",
                    "histogram": [
                      {
                        "bin_start": -0.5,
                        "bin_end": -0.4,
                        "count": 0
                      },
                      {
                        "bin_start": -0.4,
                        "bin_end": -0.3,
                        "count": 0
                      },
                      {
                        "bin_start": -0.3,
                        "bin_end": -0.19999999999999996,
                        "count": 0
                      },
                      {
                        "bin_start": -0.19999999999999996,
                        "bin_end": -0.09999999999999998,
                        "count": 0
                      },
                      {
                        "bin_start": -0.09999999999999998,
                        "bin_end": 0,
                        "count": 0
                      },
                      {
                        "bin_start": 0,
                        "bin_end": 0.10000000000000009,
                        "count": 1
                      },
                      {
                        "bin_start": 0.10000000000000009,
                        "bin_end": 0.20000000000000007,
                        "count": 0
                      },
                      {
                        "bin_start": 0.20000000000000007,
                        "bin_end": 0.30000000000000004,
                        "count": 0
                      },
                      {
                        "bin_start": 0.30000000000000004,
                        "bin_end": 0.4,
                        "count": 0
                      },
                      {
                        "bin_start": 0.4,
                        "bin_end": 0.5,
                        "count": 0
                      }
                    ]
                  }
                },
                {
                  "name": "avg_pageviews_per_session",
                  "dtype": "float64",
                  "stats": {
                    "unique_count": 8,
                    "nan_count": 0,
                    "min": "0.0",
                    "max": "43887.0",
                    "histogram": [
                      {
                        "bin_start": 0,
                        "bin_end": 4388.7,
                        "count": 7
                      },
                      {
                        "bin_start": 4388.7,
                        "bin_end": 8777.4,
                        "count": 0
                      },
                      {
                        "bin_start": 8777.4,
                        "bin_end": 13166.099999999999,
                        "count": 0
                      },
                      {
                        "bin_start": 13166.099999999999,
                        "bin_end": 17554.8,
                        "count": 0
                      },
                      {
                        "bin_start": 17554.8,
                        "bin_end": 21943.5,
                        "count": 0
                      },
                      {
                        "bin_start": 21943.5,
                        "bin_end": 26332.199999999997,
                        "count": 0
                      },
                      {
                        "bin_start": 26332.199999999997,
                        "bin_end": 30720.899999999998,
                        "count": 0
                      },
                      {
                        "bin_start": 30720.899999999998,
                        "bin_end": 35109.6,
                        "count": 0
                      },
                      {
                        "bin_start": 35109.6,
                        "bin_end": 39498.299999999996,
                        "count": 0
                      },
                      {
                        "bin_start": 39498.299999999996,
                        "bin_end": 43887,
                        "count": 1
                      }
                    ]
                  }
                },
                {
                  "name": "_deepnote_index_column",
                  "dtype": "object"
                }
              ],
              "rows": [
                {
                  "client_id": 43994,
                  "total_event_count": 43995,
                  "total_sessions": 43995,
                  "total_pageviews": 43995,
                  "total_purchases": 43995,
                  "total_trade_lead_form_submit": 43995,
                  "total_residentialconsumer_lead_form_submit": 43995,
                  "total_contactus_form_submit": 43995,
                  "avg_engagement_time": 0,
                  "avg_events_per_session": 43887,
                  "avg_engagement_time_hours": 0,
                  "avg_pageviews_per_session": 43887,
                  "_deepnote_index_column": "count"
                },
                {
                  "client_id": 1006116910.3972588,
                  "total_event_count": 6.35279008978293,
                  "total_sessions": 1.3892715081259235,
                  "total_pageviews": 4.954381179679509,
                  "total_purchases": 0.0022729855665416525,
                  "total_trade_lead_form_submit": 0.004045914308444141,
                  "total_residentialconsumer_lead_form_submit": 0.0007955449482895784,
                  "total_contactus_form_submit": 0.002000227298556654,
                  "avg_engagement_time": "nan",
                  "avg_events_per_session": 4.100600753627543,
                  "avg_engagement_time_hours": "nan",
                  "avg_pageviews_per_session": 3.212086134046802,
                  "_deepnote_index_column": "mean"
                },
                {
                  "client_id": 303899134.92208815,
                  "total_event_count": 16.33922856707793,
                  "total_sessions": 1.4817105359907994,
                  "total_pageviews": 15.487178391403454,
                  "total_purchases": 0.04949458182585758,
                  "total_trade_lead_form_submit": 0.12129679085183082,
                  "total_residentialconsumer_lead_form_submit": 0.04342796330361089,
                  "total_contactus_form_submit": 0.07321452634660444,
                  "avg_engagement_time": "nan",
                  "avg_events_per_session": 9.431753769813186,
                  "avg_engagement_time_hours": "nan",
                  "avg_pageviews_per_session": 9.5451648910341,
                  "_deepnote_index_column": "std"
                },
                {
                  "client_id": 102259,
                  "total_event_count": 1,
                  "total_sessions": 0,
                  "total_pageviews": 0,
                  "total_purchases": 0,
                  "total_trade_lead_form_submit": 0,
                  "total_residentialconsumer_lead_form_submit": 0,
                  "total_contactus_form_submit": 0,
                  "avg_engagement_time": "nan",
                  "avg_events_per_session": 1,
                  "avg_engagement_time_hours": "nan",
                  "avg_pageviews_per_session": 0,
                  "_deepnote_index_column": "min"
                },
                {
                  "client_id": 1035599314,
                  "total_event_count": 2,
                  "total_sessions": 1,
                  "total_pageviews": 1,
                  "total_purchases": 0,
                  "total_trade_lead_form_submit": 0,
                  "total_residentialconsumer_lead_form_submit": 0,
                  "total_contactus_form_submit": 0,
                  "avg_engagement_time": "nan",
                  "avg_events_per_session": 2,
                  "avg_engagement_time_hours": "nan",
                  "avg_pageviews_per_session": 1,
                  "_deepnote_index_column": "25%"
                },
                {
                  "client_id": 1093493489.5,
                  "total_event_count": 3,
                  "total_sessions": 1,
                  "total_pageviews": 2,
                  "total_purchases": 0,
                  "total_trade_lead_form_submit": 0,
                  "total_residentialconsumer_lead_form_submit": 0,
                  "total_contactus_form_submit": 0,
                  "avg_engagement_time": "nan",
                  "avg_events_per_session": 3,
                  "avg_engagement_time_hours": "nan",
                  "avg_pageviews_per_session": 2,
                  "_deepnote_index_column": "50%"
                },
                {
                  "client_id": 1150938892.5,
                  "total_event_count": 5,
                  "total_sessions": 1,
                  "total_pageviews": 4,
                  "total_purchases": 0,
                  "total_trade_lead_form_submit": 0,
                  "total_residentialconsumer_lead_form_submit": 0,
                  "total_contactus_form_submit": 0,
                  "avg_engagement_time": "nan",
                  "avg_events_per_session": 4,
                  "avg_engagement_time_hours": "nan",
                  "avg_pageviews_per_session": 3,
                  "_deepnote_index_column": "75%"
                },
                {
                  "client_id": 1207665453,
                  "total_event_count": 1664,
                  "total_sessions": 72,
                  "total_pageviews": 1663,
                  "total_purchases": 2,
                  "total_trade_lead_form_submit": 10,
                  "total_residentialconsumer_lead_form_submit": 5,
                  "total_contactus_form_submit": 8,
                  "avg_engagement_time": "nan",
                  "avg_events_per_session": 1664,
                  "avg_engagement_time_hours": "nan",
                  "avg_pageviews_per_session": 1663,
                  "_deepnote_index_column": "max"
                }
              ]
            },
            "text/plain": "           client_id  total_event_count  total_sessions  total_pageviews  \\\ncount      43994.000          43995.000       43995.000        43995.000   \nmean  1006116910.397              6.353           1.389            4.954   \nstd    303899134.922             16.339           1.482           15.487   \nmin       102259.000              1.000           0.000            0.000   \n25%   1035599314.000              2.000           1.000            1.000   \n50%   1093493489.500              3.000           1.000            2.000   \n75%   1150938892.500              5.000           1.000            4.000   \nmax   1207665453.000           1664.000          72.000         1663.000   \n\n       total_purchases  total_trade_lead_form_submit  \\\ncount        43995.000                     43995.000   \nmean             0.002                         0.004   \nstd              0.049                         0.121   \nmin              0.000                         0.000   \n25%              0.000                         0.000   \n50%              0.000                         0.000   \n75%              0.000                         0.000   \nmax              2.000                        10.000   \n\n       total_residentialconsumer_lead_form_submit  \\\ncount                                   43995.000   \nmean                                        0.001   \nstd                                         0.043   \nmin                                         0.000   \n25%                                         0.000   \n50%                                         0.000   \n75%                                         0.000   \nmax                                         5.000   \n\n       total_contactus_form_submit  avg_engagement_time  \\\ncount                    43995.000                0.000   \nmean                         0.002                  NaN   \nstd                          0.073                  NaN   \nmin                          0.000                  NaN   \n25%                          0.000                  NaN   \n50%                          0.000                  NaN   \n75%                          0.000                  NaN   \nmax                          8.000                  NaN   \n\n       avg_events_per_session  avg_engagement_time_hours  \\\ncount               43887.000                      0.000   \nmean                    4.101                        NaN   \nstd                     9.432                        NaN   \nmin                     1.000                        NaN   \n25%                     2.000                        NaN   \n50%                     3.000                        NaN   \n75%                     4.000                        NaN   \nmax                  1664.000                        NaN   \n\n       avg_pageviews_per_session  \ncount                  43887.000  \nmean                       3.212  \nstd                        9.545  \nmin                        0.000  \n25%                        1.000  \n50%                        2.000  \n75%                        3.000  \nmax                     1663.000  ",
            "text/html": "<div>\n<style scoped>\n    .dataframe tbody tr th:only-of-type {\n        vertical-align: middle;\n    }\n\n    .dataframe tbody tr th {\n        vertical-align: top;\n    }\n\n    .dataframe thead th {\n        text-align: right;\n    }\n</style>\n<table border=\"1\" class=\"dataframe\">\n  <thead>\n    <tr style=\"text-align: right;\">\n      <th></th>\n      <th>client_id</th>\n      <th>total_event_count</th>\n      <th>total_sessions</th>\n      <th>total_pageviews</th>\n      <th>total_purchases</th>\n      <th>total_trade_lead_form_submit</th>\n      <th>total_residentialconsumer_lead_form_submit</th>\n      <th>total_contactus_form_submit</th>\n      <th>avg_engagement_time</th>\n      <th>avg_events_per_session</th>\n      <th>avg_engagement_time_hours</th>\n      <th>avg_pageviews_per_session</th>\n    </tr>\n  </thead>\n  <tbody>\n    <tr>\n      <th>count</th>\n      <td>43994.000</td>\n      <td>43995.000</td>\n      <td>43995.000</td>\n      <td>43995.000</td>\n      <td>43995.000</td>\n      <td>43995.000</td>\n      <td>43995.000</td>\n      <td>43995.000</td>\n      <td>0.000</td>\n      <td>43887.000</td>\n      <td>0.000</td>\n      <td>43887.000</td>\n    </tr>\n    <tr>\n      <th>mean</th>\n      <td>1006116910.397</td>\n      <td>6.353</td>\n      <td>1.389</td>\n      <td>4.954</td>\n      <td>0.002</td>\n      <td>0.004</td>\n      <td>0.001</td>\n      <td>0.002</td>\n      <td>NaN</td>\n      <td>4.101</td>\n      <td>NaN</td>\n      <td>3.212</td>\n    </tr>\n    <tr>\n      <th>std</th>\n      <td>303899134.922</td>\n      <td>16.339</td>\n      <td>1.482</td>\n      <td>15.487</td>\n      <td>0.049</td>\n      <td>0.121</td>\n      <td>0.043</td>\n      <td>0.073</td>\n      <td>NaN</td>\n      <td>9.432</td>\n      <td>NaN</td>\n      <td>9.545</td>\n    </tr>\n    <tr>\n      <th>min</th>\n      <td>102259.000</td>\n      <td>1.000</td>\n      <td>0.000</td>\n      <td>0.000</td>\n      <td>0.000</td>\n      <td>0.000</td>\n      <td>0.000</td>\n      <td>0.000</td>\n      <td>NaN</td>\n      <td>1.000</td>\n      <td>NaN</td>\n      <td>0.000</td>\n    </tr>\n    <tr>\n      <th>25%</th>\n      <td>1035599314.000</td>\n      <td>2.000</td>\n      <td>1.000</td>\n      <td>1.000</td>\n      <td>0.000</td>\n      <td>0.000</td>\n      <td>0.000</td>\n      <td>0.000</td>\n      <td>NaN</td>\n      <td>2.000</td>\n      <td>NaN</td>\n      <td>1.000</td>\n    </tr>\n    <tr>\n      <th>50%</th>\n      <td>1093493489.500</td>\n      <td>3.000</td>\n      <td>1.000</td>\n      <td>2.000</td>\n      <td>0.000</td>\n      <td>0.000</td>\n      <td>0.000</td>\n      <td>0.000</td>\n      <td>NaN</td>\n      <td>3.000</td>\n      <td>NaN</td>\n      <td>2.000</td>\n    </tr>\n    <tr>\n      <th>75%</th>\n      <td>1150938892.500</td>\n      <td>5.000</td>\n      <td>1.000</td>\n      <td>4.000</td>\n      <td>0.000</td>\n      <td>0.000</td>\n      <td>0.000</td>\n      <td>0.000</td>\n      <td>NaN</td>\n      <td>4.000</td>\n      <td>NaN</td>\n      <td>3.000</td>\n    </tr>\n    <tr>\n      <th>max</th>\n      <td>1207665453.000</td>\n      <td>1664.000</td>\n      <td>72.000</td>\n      <td>1663.000</td>\n      <td>2.000</td>\n      <td>10.000</td>\n      <td>5.000</td>\n      <td>8.000</td>\n      <td>NaN</td>\n      <td>1664.000</td>\n      <td>NaN</td>\n      <td>1663.000</td>\n    </tr>\n  </tbody>\n</table>\n</div>"
          },
          "metadata": {}
        }
      ],
      "execution_count": 4
    },
    {
      "cell_type": "markdown",
      "source": "# EDA/Processing",
      "metadata": {
        "formattedRanges": [],
        "cell_id": "3a7d1ecde19646e4901a6a4fb9ca49d7",
        "deepnote_cell_type": "text-cell-h1"
      }
    },
    {
      "cell_type": "code",
      "source": "df_country = df.groupby('country').agg({\n    'country': 'count',\n    'total_event_count': 'mean',\n    'total_sessions': 'mean',\n    'total_pageviews': 'mean',\n    'total_purchases': 'mean',\n    'total_trade_lead_form_submit': 'mean',\n    'total_residentialconsumer_lead_form_submit': 'mean',\n    'total_contactus_form_submit': 'mean',\n    'total_engagement_time': 'mean',\n    'engaged_sessions': 'mean',\n    'bounces': 'mean',\n    'avg_pageviews_per_session': 'mean',   \n}).rename(columns={'country': 'total'}).reset_index().sort_values('total', ascending=True)\n\n#Calculated Fields\ndf_country['bounce_rate'] = df_country['bounces']/df_country['total_sessions']\ndf_country['avg_pageviews_per_session'] = df_country['total_pageviews']/df_country['total_sessions']\ndf_country['engagement_rate'] = df_country['engaged_sessions']/df_country['total_sessions']\ndf_country['converted_engagement_time'] = pd.to_datetime(df_country['total_engagement_time'], unit='s').dt.strftime(\"%H:%M:%S\")\ndf_country",
      "metadata": {
        "source_hash": "f63139b5",
        "output_cleared": false,
        "execution_start": 1687784974698,
        "execution_millis": 887,
        "deepnote_table_state": {
          "sortBy": [],
          "filters": [],
          "pageSize": 10,
          "pageIndex": 0
        },
        "deepnote_table_loading": false,
        "deepnote_to_be_reexecuted": true,
        "cell_id": "3ee5bfd9c818479e9a441684ef88161c",
        "deepnote_cell_type": "code"
      },
      "outputs": [],
      "execution_count": 4
    },
    {
      "cell_type": "markdown",
      "source": "",
      "metadata": {
        "formattedRanges": [],
        "cell_id": "0da71ff3ca6b4783996cc66772a47a71",
        "deepnote_cell_type": "text-cell-p"
      }
    },
    {
      "cell_type": "code",
      "source": "df_state = pd.DataFrame(df['state'].value_counts()).reset_index()\ndf_state.rename(columns={'state': 'total'}, inplace=True)\ndf_state = df_state.sort_values('total', ascending=True).reset_index(drop=True)\ndf_state = df.groupby(['country','state']).agg({\n    'state': 'count',\n    'total_event_count': 'mean',\n    'total_sessions': 'mean',\n    'total_pageviews': 'mean',\n    'total_purchases': 'mean',\n    'total_trade_lead_form_submit' : 'mean',\n    'total_residentialconsumer_lead_form_submit' : 'mean',\n    'total_contactus_form_submit' : 'mean',\n    'total_engagement_time' : 'mean',\n    'engaged_sessions' : 'mean',\n    #'formatted_engagement_time' : 'mean',\n    'avg_pageviews_per_session' : 'mean',\n    #'engagement_rate' : 'mean',\n    'bounces' : 'mean',\n    #'bounce_rate' : 'mean'\n}).rename(columns={'state': 'total'}).reset_index().sort_values('total', ascending=True)\ndf_state.rename(columns={'state': 'total', 'country': 'country'}, inplace=True)\n\n#Calculated Fields\ndf_state['bounce_rate'] = df_country['bounces']/df_country['total_sessions']\ndf_state['avg_pageviews_per_session'] = df_country['total_pageviews']/df_country['total_sessions']\ndf_state['engagement_rate'] = df_country['engaged_sessions']/df_country['total_sessions']\ndf_state['converted_engagement_time'] = pd.to_datetime(df_country['total_engagement_time'], unit='s').dt.strftime(\"%H:%M:%S\")\n\ndf_state",
      "metadata": {
        "source_hash": "448f4a4f",
        "execution_start": 1687543579523,
        "execution_millis": 35,
        "deepnote_table_state": {
          "sortBy": [
            {
              "id": "total_event_count",
              "type": "desc"
            }
          ],
          "filters": [
            {
              "id": "country",
              "type": "contains",
              "value": "united states"
            }
          ],
          "pageSize": 5,
          "pageIndex": 0
        },
        "deepnote_table_loading": false,
        "deepnote_to_be_reexecuted": true,
        "cell_id": "002888b858ed4257babf7f22e0a29b74",
        "deepnote_cell_type": "code"
      },
      "outputs": [],
      "execution_count": 13
    },
    {
      "cell_type": "code",
      "source": "df_ops_mean = df.groupby('operating_system').agg({\n    'device': 'count',\n    'total_event_count': 'mean',\n    'total_sessions': 'mean',\n    'total_pageviews': 'mean',\n    'total_purchases': 'mean',\n    'total_trade_lead_form_submit' : 'mean',\n    'total_residentialconsumer_lead_form_submit' : 'mean',\n    'total_contactus_form_submit' : 'mean',   \n    'total_engagement_time' : 'mean',\n    'engaged_sessions' : 'mean',\n    'avg_pageviews_per_session' : 'mean',\n    'bounces': 'mean',\n}).rename(columns={'device': 'Total'}).reset_index().sort_values('Total', ascending=True)\n\ndf_ops_mean.rename(columns={'device': 'Total'}, inplace=True)\ndf_ops_mean.sort_values('Total', ascending=False, inplace=True)\n#Calculated Fields\ndf_ops_mean['bounce_rate'] = df_country['bounces']/df_country['total_sessions']\ndf_ops_mean['avg_pageviews_per_session'] = df_country['total_pageviews']/df_country['total_sessions']\ndf_ops_mean['engagement_rate'] = df_country['engaged_sessions']/df_country['total_sessions']\ndf_ops_mean['converted_engagement_time'] = pd.to_datetime(df_country['total_engagement_time'], unit='s').dt.strftime(\"%H:%M:%S\")\n\ndf_ops_mean\n",
      "metadata": {
        "source_hash": "a3772776",
        "execution_start": 1687479594194,
        "execution_millis": 31,
        "is_output_hidden": false,
        "deepnote_table_state": {
          "sortBy": [
            {
              "id": "total_sessions",
              "type": "desc"
            }
          ],
          "filters": [],
          "pageSize": 10,
          "pageIndex": 0
        },
        "deepnote_table_loading": false,
        "deepnote_to_be_reexecuted": true,
        "deepnote_app_is_output_hidden": true,
        "cell_id": "6fcd58de03e145e7acb14573b5f302a8",
        "deepnote_cell_type": "code"
      },
      "outputs": [],
      "execution_count": null
    },
    {
      "cell_type": "markdown",
      "source": "OPS totals",
      "metadata": {
        "formattedRanges": [],
        "cell_id": "45c60ad81b044f69b2b3b7ae39b6ff9a",
        "deepnote_cell_type": "text-cell-p"
      }
    },
    {
      "cell_type": "code",
      "source": "df_ops = pd.DataFrame(df['device'].value_counts()).reset_index()\ndf_ops.rename(columns = {'index':'device', 'device':'Total'}, inplace = True)\ndf_region = df_ops.sort_values('Total', ascending = True).reset_index(drop = True)\n# The dataframe\ndf_ops = df.groupby('operating_system').agg({\n    'device': 'count',\n    'total_event_count': 'mean',\n    'total_sessions': 'mean',\n    'total_pageviews': 'mean',\n    'total_purchases': 'mean',\n   'total_trade_lead_form_submit' : 'mean',\n    'total_residentialconsumer_lead_form_submit' : 'mean',\n    'total_contactus_form_submit' : 'mean',   \n    'total_engagement_time' : 'mean',\n    'engaged_sessions' : 'mean',\n    'avg_pageviews_per_session' : 'mean',\n    'bounces': 'mean',\n\n}).rename(columns={'device': 'total'}).reset_index().sort_values('total', ascending=True)\n#Calculated Fields\ndf_ops['bounce_rate'] = df_country['bounces']/df_country['total_sessions']\ndf_ops['avg_pageviews_per_session'] = df_country['total_pageviews']/df_country['total_sessions']\ndf_ops['engagement_rate'] = df_country['engaged_sessions']/df_country['total_sessions']\ndf_ops['converted_engagement_time'] = pd.to_datetime(df_country['total_engagement_time'], unit='s').dt.strftime(\"%H:%M:%S\")\n\ndf_ops",
      "metadata": {
        "source_hash": "f090a245",
        "execution_start": 1687479594230,
        "execution_millis": 88,
        "is_output_hidden": false,
        "deepnote_to_be_reexecuted": true,
        "deepnote_app_is_output_hidden": true,
        "cell_id": "7ed15163e2e74a2a9416e9c659465122",
        "deepnote_cell_type": "code"
      },
      "outputs": [],
      "execution_count": null
    },
    {
      "cell_type": "code",
      "source": "# Rest of your code remains the same\nsortedops_df = df_ops_mean.sort_values(by='total_event_count', ascending=False)\n\n# Select the top three rows based on the sorted metric\ntop_three_ops = sortedops_df.head(3)\n\n# Extract the required data\noperating_systems = top_three_ops['operating_system']\ntotal_event_count = top_three_ops['total_event_count']\ntotal_pageviews = top_three_ops['total_pageviews']\ntotal_sessions = top_three_ops['total_sessions']\ntotal_purchases = top_three_ops['total_purchases']\n\n# Set the positions for the bars on the x-axis\nx = np.arange(len(operating_systems))\n\nwidth = 0.2\n\nfig, ax = plt.subplots()\n\n# Plot the bars for each metric\nax.bar(x - width, total_event_count, width, label='Total Event Count', color='#981220', alpha=0.6)\nax.bar(x, total_pageviews, width, label='Total Pageviews', color='#80797c', alpha=0.6)\nax.bar(x + width, total_sessions, width, label='Total Sessions', color='#5b9bd5', alpha=0.6)\nax.bar(x + (2 * width), total_purchases, width, label='Total Purchases', color='#c95f5f', alpha=0.6)\n\n# Set the x-axis tick positions and labels\nax.set_xticks(x)\nax.set_xticklabels(operating_systems)\n\n# Set the y-axis label\nax.set_ylabel('Count')\n\n# Set the chart title\nax.set_title('AVG OPS Metrics (Top Three)')\n\n# Add a legend\nax.legend()\n\n# Show the chart\nplt.show()",
      "metadata": {
        "source_hash": "e79673ff",
        "execution_start": 1687479594322,
        "execution_millis": 351,
        "deepnote_to_be_reexecuted": true,
        "cell_id": "afb4fb7a0fce4083b825b760358ebbe6",
        "deepnote_cell_type": "code"
      },
      "outputs": [],
      "execution_count": null
    },
    {
      "cell_type": "code",
      "source": "# Extract the required data\noperating_systems = df_ops_mean['operating_system']\ntotal_trade_lead_form_submit = df_ops_mean['total_trade_lead_form_submit']\ntotal_residentialconsumer_lead_form_submit = df_ops_mean['total_residentialconsumer_lead_form_submit']\ntotal_contactus_form_submit = df_ops_mean['total_contactus_form_submit']\n\n# Set the positions for the bars on the x-axis\nx = np.arange(len(operating_systems))\n\nwidth = 0.2\n\nfig, ax = plt.subplots()\n\n# Plot the bars for each metric\nax.bar(x - width, total_trade_lead_form_submit, width, label='total_trade_lead_form_submit', color='#981220', alpha=0.6)\nax.bar(x, total_residentialconsumer_lead_form_submit, width, label='total_residentialconsumer_lead_form_submit', color='#80797c', alpha=0.6)\nax.bar(x + width, total_contactus_form_submit, width, label='total_contactus_form_submit', color='#5b9bd5', alpha=0.6)\n\n# Set the x-axis tick positions and labels\nax.set_xticks(x)\nax.set_xticklabels(operating_systems)\n\n# Set the y-axis label\nax.set_ylabel('Count')\n\n# Set the chart title\nax.set_title('AVG OPS Form Submissions ')\n\n# Add a legend\nax.legend()\n\n# Show the chart\nplt.show()\n",
      "metadata": {
        "source_hash": "772f8387",
        "execution_start": 1687479594710,
        "execution_millis": 297,
        "deepnote_to_be_reexecuted": true,
        "cell_id": "b65d138a2b334acc8eb2f07c391b7023",
        "deepnote_cell_type": "code"
      },
      "outputs": [],
      "execution_count": null
    },
    {
      "cell_type": "code",
      "source": "df_device = pd.DataFrame(df['device'].value_counts()).reset_index()\ndf_device.rename(columns = {'index':'device', 'device':'Total'}, inplace = True)\ndf_device = df_device.sort_values('Total', ascending = True).reset_index(drop = True)\n# The dataframe\ndf_device = df.groupby('device').agg({\n    'device': 'count',\n    'total_event_count': 'sum',\n    'total_sessions': 'sum',\n    'total_pageviews': 'sum',\n    'total_purchases': 'sum',\n\n}).rename(columns={'device': 'total'}).reset_index().sort_values('total', ascending=True)\n\ndf_device",
      "metadata": {
        "source_hash": "927fffdf",
        "execution_start": 1687479595013,
        "execution_millis": 19,
        "deepnote_to_be_reexecuted": true,
        "cell_id": "cd3e29082f3a4db4af9f9eeddcc76663",
        "deepnote_cell_type": "code"
      },
      "outputs": [],
      "execution_count": null
    },
    {
      "cell_type": "markdown",
      "source": "Dev means",
      "metadata": {
        "formattedRanges": [],
        "cell_id": "4dfbcf95b1914fe8827426b1b24bb0e3",
        "deepnote_cell_type": "text-cell-p"
      }
    },
    {
      "cell_type": "code",
      "source": "df_device_mean = pd.DataFrame(df['device'].value_counts()).reset_index()\ndf_device_mean.rename(columns = {'index':'device', 'device':'Total'}, inplace = True)\ndf_device_mean = df_device_mean.sort_values('Total', ascending = True).reset_index(drop = True)\n# The dataframe\ndf_device_mean = df.groupby('device').agg({\n    'device': 'count',\n    'total_event_count': 'mean',\n    'total_sessions': 'mean',\n    'total_pageviews': 'mean',\n    'total_purchases': 'mean',\n\n}).rename(columns={'device': 'total'}).reset_index().sort_values('total', ascending=True)\n\ndf_device_mean",
      "metadata": {
        "source_hash": "7919210a",
        "execution_start": 1687479595100,
        "execution_millis": 2,
        "deepnote_to_be_reexecuted": true,
        "cell_id": "979a0836ffad4f41918e507be502339c",
        "deepnote_cell_type": "code"
      },
      "outputs": [],
      "execution_count": null
    },
    {
      "cell_type": "code",
      "source": "device_names = df_device_mean['device']\ntotal_event_count = df_device_mean['total_event_count']\ntotal_pageviews = df_device_mean['total_pageviews']\ntotal_sessions = df_device_mean['total_sessions']\ntotal_purchases = df_device_mean['total_purchases']\n\nx = np.arange(len(device_names))\n\nwidth = 0.2\n\nfig, ax = plt.subplots()\n\nax.bar(x - width, total_event_count, width, label='Total Event Count', color='#981220', alpha=0.6)\nax.bar(x, total_pageviews, width, label='Total Pageviews', color='#80797c', alpha=0.6)\nax.bar(x + width, total_sessions, width, label='Total Sessions', color='#5b9bd5', alpha=0.6)\nax.bar(x + (2 * width), total_purchases, width, label='Total Purchases', color='#c95f5f', alpha=0.6)\n\nax.set_xticks(x)\nax.set_xticklabels(device_names)\n\nax.set_ylabel('Count')\nax.set_title('AVG Mobile Device Metrics')\n\nax.legend()\n\nplt.show()\n",
      "metadata": {
        "source_hash": "e7f1ecbb",
        "execution_start": 1687479595112,
        "execution_millis": 269,
        "deepnote_to_be_reexecuted": true,
        "cell_id": "bb1eb5c3a35d4c0388421ac3005bb41f",
        "deepnote_cell_type": "code"
      },
      "outputs": [],
      "execution_count": null
    },
    {
      "cell_type": "markdown",
      "source": "## brand name",
      "metadata": {
        "is_collapsed": false,
        "formattedRanges": [],
        "cell_id": "7b75605914414c90a19a0d7c04e0e720",
        "deepnote_cell_type": "text-cell-h2"
      }
    },
    {
      "cell_type": "code",
      "source": "df_brand_name = df.groupby('brand_name').agg({\n    'brand_name': 'count',\n    'total_event_count': 'sum',\n    'total_sessions': 'sum',\n    'total_pageviews': 'sum',\n    'total_purchases': 'sum',  \n    'total_trade_lead_form_submit' : 'mean',\n    'total_residentialconsumer_lead_form_submit' : 'mean',\n    'total_contactus_form_submit' : 'mean',\n    'total_engagement_time' : 'mean',\n    'engaged_sessions' : 'mean',\n    #'formatted_engagement_time' : 'mean',\n    'avg_pageviews_per_session' : 'mean',\n    #'engagement_rate' : 'mean',\n    'bounces' : 'mean',\n    #'bounce_rate' : 'mean'\n}).rename(columns={'brand_name': 'Total'}).reset_index().sort_values('Total', ascending=True)\n#Calculated Fields\ndf_brand_name['bounce_rate'] = df_country['bounces']/df_country['total_sessions']\ndf_brand_name['avg_pageviews_per_session'] = df_country['total_pageviews']/df_country['total_sessions']\ndf_brand_name['engagement_rate'] = df_country['engaged_sessions']/df_country['total_sessions']\ndf_brand_name['converted_engagement_time'] = pd.to_datetime(df_country['total_engagement_time'], unit='s').dt.strftime(\"%H:%M:%S\")\n\ndf_brand_name",
      "metadata": {
        "source_hash": "b0f607f7",
        "execution_start": 1687479595430,
        "execution_millis": 43,
        "deepnote_to_be_reexecuted": true,
        "cell_id": "2184407227b74c49bb557988f204ab0b",
        "deepnote_cell_type": "code"
      },
      "outputs": [],
      "execution_count": null
    },
    {
      "cell_type": "code",
      "source": "df_brand_name_mean = df.groupby('brand_name').agg({\n    'brand_name': 'count',\n    'total_event_count': 'mean',\n    'total_sessions': 'mean',\n    'total_pageviews': 'mean',\n    'total_purchases': 'mean',\n    'total_trade_lead_form_submit' : 'mean',\n    'total_residentialconsumer_lead_form_submit' : 'mean',\n    'total_contactus_form_submit' : 'mean',\n    'total_engagement_time' : 'mean',\n    'engaged_sessions' : 'mean',\n    #'formatted_engagement_time' : 'mean',\n    'avg_pageviews_per_session' : 'mean',\n    #'engagement_rate' : 'mean',\n    'bounces' : 'mean',\n    #'bounce_rate' : 'mean'\n}).rename(columns={'brand_name': 'Total'}).reset_index().sort_values('Total', ascending=True)\n#Calculated Fields\ndf_brand_name_mean['bounce_rate'] = df_country['bounces']/df_country['total_sessions']\ndf_brand_name_mean['avg_pageviews_per_session'] = df_country['total_pageviews']/df_country['total_sessions']\ndf_brand_name_mean['engagement_rate'] = df_country['engaged_sessions']/df_country['total_sessions']\ndf_brand_name_mean['converted_engagement_time'] = pd.to_datetime(df_country['total_engagement_time'], unit='s').dt.strftime(\"%H:%M:%S\")\n\ndf_brand_name_mean\n",
      "metadata": {
        "source_hash": "d29767b4",
        "execution_start": 1687479595475,
        "execution_millis": 77,
        "deepnote_to_be_reexecuted": true,
        "cell_id": "f482c17e93c2401596774ac391093153",
        "deepnote_cell_type": "code"
      },
      "outputs": [],
      "execution_count": null
    },
    {
      "cell_type": "markdown",
      "source": "## Model Name",
      "metadata": {
        "is_collapsed": false,
        "formattedRanges": [],
        "cell_id": "fb9ae3fbbe1c4f31bbab5477e9a22945",
        "deepnote_cell_type": "text-cell-h2"
      }
    },
    {
      "cell_type": "code",
      "source": "df_model_name_mean = df.groupby('model_name').agg({\n    'model_name': 'count',\n    'total_event_count': 'mean',\n    'total_sessions': 'mean',\n    'total_pageviews': 'mean',\n    'total_purchases': 'mean',\n    'total_trade_lead_form_submit' : 'mean',\n    'total_residentialconsumer_lead_form_submit' : 'mean',\n    'total_contactus_form_submit' : 'mean',\n    'total_engagement_time' : 'mean',\n    'engaged_sessions' : 'mean',\n    #'formatted_engagement_time' : 'mean',\n    'avg_pageviews_per_session' : 'mean',\n    #'engagement_rate' : 'mean',\n    'bounces' : 'mean',\n    #'bounce_rate' : 'mean'\n}).rename(columns={'model_name': 'total'}).reset_index().sort_values('total', ascending=True)\n#Calculated Fields\ndf_model_name_mean['bounce_rate'] = df_country['bounces']/df_country['total_sessions']\ndf_model_name_mean['avg_pageviews_per_session'] = df_country['total_pageviews']/df_country['total_sessions']\ndf_model_name_mean['engagement_rate'] = df_country['engaged_sessions']/df_country['total_sessions']\ndf_model_name_mean['converted_engagement_time'] = pd.to_datetime(df_country['total_engagement_time'], unit='s').dt.strftime(\"%H:%M:%S\")\n\ndf_model_name_mean",
      "metadata": {
        "source_hash": "4390621f",
        "execution_start": 1687479595557,
        "execution_millis": 81,
        "deepnote_to_be_reexecuted": true,
        "cell_id": "cc8698123d31460bb5a6f4b9eb101946",
        "deepnote_cell_type": "code"
      },
      "outputs": [],
      "execution_count": null
    },
    {
      "cell_type": "code",
      "source": "sorted_modelname_df = df_model_name_mean.sort_values(by='total_event_count', ascending=False)\n\ntop_five_modelname = sorted_modelname_df.head(5)\n\nmodel_names = top_five_modelname['model_name']\ntotal_event_count = top_five_modelname['total_event_count']\ntotal_pageviews = top_five_modelname['total_pageviews']\ntotal_sessions = top_five_modelname['total_sessions']\ntotal_purchases = top_five_modelname['total_purchases']\n\nx = np.arange(len(model_names))\n\nwidth = 0.2\n\nfig, ax = plt.subplots()\n\nax.bar(x - width, total_event_count, width, label='Total Event Count', color='#981220', alpha=0.6)\nax.bar(x, total_pageviews, width, label='Total Pageviews', color='#80797c', alpha=0.6)\nax.bar(x + width, total_sessions, width, label='Total Sessions', color='#5b9bd5', alpha=0.6)\nax.bar(x + (2 * width), total_purchases, width, label='Total Purchases', color='#c95f5f', alpha=0.6)\n\nax.set_xticks(x)\nax.set_xticklabels(model_names)\n\nax.set_ylabel('Count')\nax.set_title('AVG Model Name Metrics (Top 5)')\n\nax.legend()\n\nplt.show()\n",
      "metadata": {
        "source_hash": "9f2a2bba",
        "execution_start": 1687479595661,
        "execution_millis": 323,
        "deepnote_to_be_reexecuted": true,
        "cell_id": "86c6eb08b60e45b5be4a0f17f55d963d",
        "deepnote_cell_type": "code"
      },
      "outputs": [],
      "execution_count": null
    },
    {
      "cell_type": "code",
      "source": "df_model_name = df.groupby('model_name').agg({\n    'model_name': 'count',\n    'total_event_count': 'sum',\n    'total_sessions': 'sum',\n    'total_pageviews': 'sum',\n    'total_purchases': 'sum',\n    'total_trade_lead_form_submit' : 'sum',\n    'total_residentialconsumer_lead_form_submit' : 'sum',\n    'total_contactus_form_submit' : 'sum',\n    'total_engagement_time' : 'sum',\n    'engaged_sessions' : 'sum',\n    #'formatted_engagement_time' : 'mean',\n    'avg_pageviews_per_session' : 'sum',\n    #'engagement_rate' : 'mean',\n    'bounces' : 'sum',\n    #'bounce_rate' : 'mean'\n}).rename(columns={'model_name': 'total'}).reset_index().sort_values('total', ascending=True)\n#Calculated Fields\ndf_model_name['bounce_rate'] = df_country['bounces']/df_country['total_sessions']\ndf_model_name['avg_pageviews_per_session'] = df_country['total_pageviews']/df_country['total_sessions']\ndf_model_name['engagement_rate'] = df_country['engaged_sessions']/df_country['total_sessions']\ndf_model_name['converted_engagement_time'] = pd.to_datetime(df_country['total_engagement_time'], unit='s').dt.strftime(\"%H:%M:%S\")\n\ndf_model_name",
      "metadata": {
        "source_hash": "fe9a1883",
        "execution_start": 1687479595990,
        "execution_millis": 75,
        "deepnote_to_be_reexecuted": true,
        "cell_id": "9317ff577ab444f88cfce7e835add9ec",
        "deepnote_cell_type": "code"
      },
      "outputs": [],
      "execution_count": null
    },
    {
      "cell_type": "code",
      "source": "sortedbrandname_df = df_brand_name_mean.sort_values(by='total_event_count', ascending=False)\n\n# Select the top three rows based on the sorted metric\ntop_five_brandname = sortedbrandname_df.head(5)\n\n# Extract the required data\nbrand_names=top_five_brandname['brand_name']\ntotal_event_count = top_five_brandname['total_event_count']\ntotal_pageviews = top_five_brandname['total_pageviews']\ntotal_sessions = top_five_brandname['total_sessions']\ntotal_purchases = top_five_brandname['total_purchases']\n\n# Set the positions for the bars on the x-axis\nx = np.arange(len(brand_names))\n\n# Set the width of each bar\nwidth = 0.2\n\n# Create the figure and axis objects\nfig, ax = plt.subplots()\n\n# Plot the bars for each metric\nax.bar(x - width, total_event_count, width, label='Total Event Count', color='#981220', alpha=0.6)\nax.bar(x, total_pageviews, width, label='Total Pageviews', color='#80797c', alpha=0.6)\nax.bar(x + width, total_sessions, width, label='Total Sessions', color='#5b9bd5', alpha=0.6)\nax.bar(x + (2 * width), total_purchases, width, label='Total Purchases', color='#c95f5f', alpha=0.6)\n\n# Set the x-axis tick positions and labels\nax.set_xticks(x)\nax.set_xticklabels(brand_names)\n\n# Set the y-axis label\nax.set_ylabel('Count')\n\n# Set the chart title\nax.set_title('AVG Brand Name Metrics(top 5)')\n\n# Add a legend\nax.legend()\n\n# Show the chart\nplt.show()",
      "metadata": {
        "source_hash": "f7154bdd",
        "execution_start": 1687479596086,
        "execution_millis": 267,
        "deepnote_to_be_reexecuted": true,
        "cell_id": "b5b8c2d81ae74d9bbf41b6012c2e9120",
        "deepnote_cell_type": "code"
      },
      "outputs": [],
      "execution_count": null
    },
    {
      "cell_type": "code",
      "source": "df_brand_name = df.groupby('brand_name').agg({\n    'brand_name': 'count',\n    'total_event_count': 'mean',\n    'total_sessions': 'mean',\n    'total_pageviews': 'mean',\n    'total_purchases': 'mean',\n    'total_trade_lead_form_submit' : 'mean',\n    'total_residentialconsumer_lead_form_submit' : 'mean',\n    'total_contactus_form_submit' : 'mean',\n    'total_engagement_time' : 'mean',\n    'engaged_sessions' : 'mean',\n    #'formatted_engagement_time' : 'mean',\n    'avg_pageviews_per_session' : 'mean',\n    #'engagement_rate' : 'mean',\n    'bounces' : 'mean',\n    #'bounce_rate' : 'mean'\n}).rename(columns={'brand_name': 'Total'}).reset_index().sort_values('Total', ascending=True)\n#Calculated Fields\ndf_brand_name['bounce_rate'] = df_country['bounces']/df_country['total_sessions']\ndf_brand_name['avg_pageviews_per_session'] = df_country['total_pageviews']/df_country['total_sessions']\ndf_brand_name['engagement_rate'] = df_country['engaged_sessions']/df_country['total_sessions']\ndf_brand_name['converted_engagement_time'] = pd.to_datetime(df_country['total_engagement_time'], unit='s').dt.strftime(\"%H:%M:%S\")\n\ndf_brand_name",
      "metadata": {
        "source_hash": "ece1ac57",
        "execution_start": 1687479596355,
        "execution_millis": 70,
        "deepnote_to_be_reexecuted": true,
        "cell_id": "97eb7468ffc84c6abdc854844b3b200b",
        "deepnote_cell_type": "code"
      },
      "outputs": [],
      "execution_count": null
    },
    {
      "cell_type": "markdown",
      "source": "## total session Visuals",
      "metadata": {
        "is_collapsed": false,
        "formattedRanges": [],
        "cell_id": "9b4d901376c04512bc258c5f0a4f9584",
        "deepnote_cell_type": "text-cell-h2"
      }
    },
    {
      "cell_type": "markdown",
      "source": "Total sessions by device type",
      "metadata": {
        "formattedRanges": [],
        "cell_id": "e258fb38b52f46298c2efc1e3c37e708",
        "deepnote_cell_type": "text-cell-p"
      }
    },
    {
      "cell_type": "code",
      "source": "plotnine.options.figure_size = (8, 4.8)\n\n(\n    ggplot(data=df_device) +\n    geom_bar(\n        aes(x='device',\n            y='total_sessions'),\n        fill=np.where(df_device['device'] == 'mobile', '#981220', '#80797c'),\n        stat='identity'\n    ) +\n    geom_text(\n        aes(x='device',\n            y='total_sessions',\n            label=df_device['total_sessions'].astype(str)),\n        size=10,\n        nudge_y=6\n    ) +\n    labs(title='Total sessions by device type') +\n    xlab('device') +\n    ylab('Total Sessions') +\n    scale_x_discrete(limits=df_device['device'].tolist()) +\n    theme_minimal() +\n    coord_flip()\n)",
      "metadata": {
        "source_hash": "281302c4",
        "is_code_hidden": false,
        "execution_start": 1687479596424,
        "execution_millis": 432,
        "deepnote_to_be_reexecuted": true,
        "deepnote_app_is_code_hidden": true,
        "cell_id": "4259cb9417114749968cf2604a9bdc4d",
        "deepnote_cell_type": "code"
      },
      "outputs": [],
      "execution_count": null
    },
    {
      "cell_type": "markdown",
      "source": "avg Total sessions by operating system",
      "metadata": {
        "formattedRanges": [],
        "cell_id": "1bbd0dc9238a48f58ca782745dea96fe",
        "deepnote_cell_type": "text-cell-p"
      }
    },
    {
      "cell_type": "code",
      "source": "plotnine.options.figure_size = (8, 4.8)\n\n(\n    ggplot(data=df_ops) +\n    geom_bar(\n        aes(x='operating_system',\n            y='total_sessions'),\n        fill=np.where(df_ops['operating_system'] == 'iOS', '#981220', '#80797c'),\n        stat='identity'\n    ) +\n    geom_text(\n        aes(x='operating_system',\n            y='total_sessions',\n            label=df_ops['total_sessions'].astype(str)),\n        size=10,\n        nudge_y=6\n    ) +\n    labs(title='avg Total sessions by operating system') +\n    xlab('Operating System') +\n    ylab('total_sessions') +\n    scale_x_discrete(limits=df_ops['operating_system'].tolist()) +\n    theme_minimal() +\n    coord_flip()\n)",
      "metadata": {
        "source_hash": "16c927d6",
        "execution_start": 1687479596862,
        "execution_millis": 667,
        "deepnote_to_be_reexecuted": true,
        "cell_id": "a438ec16c236404f8a096e30271c970d",
        "deepnote_cell_type": "code"
      },
      "outputs": [],
      "execution_count": null
    },
    {
      "cell_type": "markdown",
      "source": "## total event visuals",
      "metadata": {
        "is_collapsed": false,
        "formattedRanges": [],
        "cell_id": "77d939ab219347c2aca6723c4fb7b52a",
        "deepnote_cell_type": "text-cell-h2"
      }
    },
    {
      "cell_type": "markdown",
      "source": "avg Total events by device type",
      "metadata": {
        "formattedRanges": [],
        "cell_id": "93dac418a54c4b38a83aa8a05ec0236d",
        "deepnote_cell_type": "text-cell-p"
      }
    },
    {
      "cell_type": "code",
      "source": "plotnine.options.figure_size = (8, 4.8)\n\n(\n    ggplot(data=df_device) +\n    geom_bar(\n        aes(x='device',\n            y='total_event_count'),\n        fill=np.where(df_device['device'] == 'mobile', '#981220', '#80797c'),\n        stat='identity'\n    ) +\n    geom_text(\n        aes(x='device',\n            y='total_event_count',\n            label=df_device['total_event_count'].astype(str)),\n        size=10,\n        nudge_y=6\n    ) +\n    labs(title='avg Total events by device type') +\n    xlab('device') +\n    ylab('Total events') +\n    scale_x_discrete(limits=df_device['device'].tolist()) +\n    theme_minimal() +\n    coord_flip()\n)",
      "metadata": {
        "source_hash": "3c61ce1e",
        "execution_start": 1687479597553,
        "execution_millis": 538,
        "deepnote_to_be_reexecuted": true,
        "cell_id": "647a2a4d95564b73b9da18b2ab788aa8",
        "deepnote_cell_type": "code"
      },
      "outputs": [],
      "execution_count": null
    },
    {
      "cell_type": "markdown",
      "source": "avg pageviews by ops",
      "metadata": {
        "formattedRanges": [],
        "cell_id": "6ef93e8b3e274c8bb200e3db93e5a411",
        "deepnote_cell_type": "text-cell-p"
      }
    },
    {
      "cell_type": "code",
      "source": "plotnine.options.figure_size = (8, 4.8)\n\n(\n    ggplot(data=df_ops) +\n    geom_bar(\n        aes(x='operating_system',\n            y='total_event_count'),\n        fill=np.where(df_ops['operating_system'] == 'iOS', '#981220', '#80797c'),\n        stat='identity'\n    ) +\n    geom_text(\n        aes(x='operating_system',\n            y='total_event_count',\n            label=df_ops['total_event_count'].astype(str)),\n        size=10,\n        nudge_y=6\n    ) +\n    labs(title='avg Total Events by operating system') +\n    xlab('Operating System') +\n    ylab('Total Event Count') +\n    scale_x_discrete(limits=df_ops['operating_system'].tolist()) +\n    theme_minimal() +\n    coord_flip()\n)",
      "metadata": {
        "source_hash": "ddc26b45",
        "execution_start": 1687479598082,
        "execution_millis": 627,
        "deepnote_to_be_reexecuted": true,
        "cell_id": "5eaef2acd14a4865a1bf2998c1bb8c60",
        "deepnote_cell_type": "code"
      },
      "outputs": [],
      "execution_count": null
    },
    {
      "cell_type": "markdown",
      "source": "## Total pageviews",
      "metadata": {
        "is_collapsed": false,
        "formattedRanges": [],
        "cell_id": "32652aa285384616a214a5f659c29ad7",
        "deepnote_cell_type": "text-cell-h2"
      }
    },
    {
      "cell_type": "markdown",
      "source": "pageviews by device",
      "metadata": {
        "formattedRanges": [],
        "cell_id": "10dcb6de7407459eb3a534bd5dd22194",
        "deepnote_cell_type": "text-cell-p"
      }
    },
    {
      "cell_type": "code",
      "source": "plotnine.options.figure_size = (8, 4.8)\n\n(\n    ggplot(data=df_device) +\n    geom_bar(\n        aes(x='device',\n            y='total_pageviews'),\n        fill=np.where(df_device['device'] == 'mobile', '#981220', '#80797c'),\n        stat='identity'\n    ) +\n    geom_text(\n        aes(x='device',\n            y='total_pageviews',\n            label=df_device['total_pageviews'].astype(str)),\n        size=10,\n        nudge_y=6\n    ) +\n    labs(title='avg Total pageviews by device type') +\n    xlab('device') +\n    ylab('Total Pageviews') +\n    scale_x_discrete(limits=df_device['device'].tolist()) +\n    theme_minimal() +\n    coord_flip()\n)",
      "metadata": {
        "source_hash": "f5a61ef6",
        "output_cleared": false,
        "execution_start": 1687479598733,
        "execution_millis": 462,
        "is_output_hidden": false,
        "deepnote_to_be_reexecuted": true,
        "deepnote_app_is_output_hidden": true,
        "cell_id": "fd4ac0df0cb3497f9224e935576be9ee",
        "deepnote_cell_type": "code"
      },
      "outputs": [],
      "execution_count": null
    },
    {
      "cell_type": "markdown",
      "source": "pageviews by ops",
      "metadata": {
        "formattedRanges": [],
        "cell_id": "e7809b0e8dca4a18a0975f7446f784f4",
        "deepnote_cell_type": "text-cell-p"
      }
    },
    {
      "cell_type": "code",
      "source": "import numpy as np\nfrom plotnine import *\n\nplotnine.options.figure_size = (8, 4.8)\n\n(\n    ggplot(data=df_ops) +\n    geom_bar(\n        aes(x='operating_system',\n            y='total_pageviews'),\n        fill=np.where(df_ops['operating_system'] == 'iOS', '#981220', '#80797c'),\n        stat='identity'\n    ) +\n    geom_text(\n        aes(x='operating_system',\n            y='total_pageviews',\n            label=df_ops['total_pageviews'].astype(str)),\n        size=10,\n        nudge_y=6\n    ) +\n    labs(title='avg Total Events by operating system') +\n    xlab('Operating System') +\n    ylab('Total Pageviews') +\n    scale_x_discrete(limits=df_ops['operating_system'].tolist()) +\n    theme_minimal() +\n    coord_flip()\n)",
      "metadata": {
        "source_hash": "dd40da6",
        "execution_start": 1687479599198,
        "execution_millis": 469,
        "deepnote_to_be_reexecuted": true,
        "cell_id": "c690ee385caf48c1a40be82775a9aec1",
        "deepnote_cell_type": "code"
      },
      "outputs": [],
      "execution_count": null
    },
    {
      "cell_type": "markdown",
      "source": "## Total Purchases",
      "metadata": {
        "is_collapsed": false,
        "formattedRanges": [],
        "cell_id": "bf620655cbdf48b6adbfd343fc4f14ad",
        "deepnote_cell_type": "text-cell-h2"
      }
    },
    {
      "cell_type": "code",
      "source": "plotnine.options.figure_size = (8, 4.8)\n\n(\n    ggplot(data=df_device) +\n    geom_bar(\n        aes(x='device',\n            y='total_purchases'),\n        fill=np.where(df_device['device'] == 'mobile', '#981220', '#80797c'),\n        stat='identity'\n    ) +\n    geom_text(\n        aes(x='device',\n            y='total_purchases',\n            label=df_device['total_purchases'].astype(str)),\n        size=10,\n        nudge_y=6\n    ) +\n    labs(title='avg Total purchases by device type') +\n    xlab('device') +\n    ylab('Total Purchases') +\n    scale_x_discrete(limits=df_device['device'].tolist()) +\n    theme_minimal() +\n    coord_flip()\n)",
      "metadata": {
        "source_hash": "57a38497",
        "execution_start": 1687479599687,
        "execution_millis": 372,
        "deepnote_to_be_reexecuted": true,
        "cell_id": "e25f62f262ff4b49a13bfded3ca9b175",
        "deepnote_cell_type": "code"
      },
      "outputs": [],
      "execution_count": null
    },
    {
      "cell_type": "code",
      "source": "plotnine.options.figure_size = (8, 4.8)\n\n(\n    ggplot(data=df_ops) +\n    geom_bar(\n        aes(x='operating_system',\n            y='total_purchases'),\n        fill=np.where(df_ops['operating_system'] == 'iOS', '#981220', '#80797c'),\n        stat='identity'\n    ) +\n    geom_text(\n        aes(x='operating_system',\n            y='total_purchases',\n            label=df_ops['total_pageviews'].astype(str)),\n        size=10,\n        nudge_y=6\n    ) +\n    labs(title='avg Total Events by operating system') +\n    xlab('Operating System') +\n    ylab('Total Purchases') +\n    scale_x_discrete(limits=df_ops['operating_system'].tolist()) +\n    theme_minimal() +\n    coord_flip()\n)",
      "metadata": {
        "source_hash": "c5a7490",
        "execution_start": 1687479600061,
        "execution_millis": 641,
        "deepnote_to_be_reexecuted": true,
        "cell_id": "483041c77a3b4361ae29b7907fa37a7f",
        "deepnote_cell_type": "code"
      },
      "outputs": [],
      "execution_count": null
    },
    {
      "cell_type": "markdown",
      "source": "# Processing",
      "metadata": {
        "is_collapsed": false,
        "formattedRanges": [],
        "cell_id": "0fb1ee71a3f64eab91a61bf084cb05d9",
        "deepnote_cell_type": "text-cell-h1"
      }
    },
    {
      "cell_type": "code",
      "source": "# Get the position of categorical columns\ncatColumnsPos = [df.columns.get_loc(col) for col in list(df.select_dtypes('object').columns)]\nprint('Categorical columns           : {}'.format(list(df.select_dtypes('object').columns)))\nprint('Categorical columns position  : {}'.format(catColumnsPos))",
      "metadata": {
        "source_hash": "29cc0ff",
        "execution_start": 1687542579374,
        "execution_millis": 13,
        "deepnote_to_be_reexecuted": true,
        "cell_id": "077c49ae9bc844239ae43155c622980d",
        "deepnote_cell_type": "code"
      },
      "outputs": [],
      "execution_count": 23
    },
    {
      "cell_type": "markdown",
      "source": "# Feature Engineering ",
      "metadata": {
        "formattedRanges": [],
        "cell_id": "acd217d7b8074af5a84a446b7cd6d03f",
        "deepnote_cell_type": "text-cell-h1"
      }
    },
    {
      "cell_type": "code",
      "source": "",
      "metadata": {
        "source_hash": "b623e53d",
        "execution_start": 1687479600719,
        "execution_millis": 2,
        "deepnote_to_be_reexecuted": true,
        "cell_id": "17cdd0c5d23e4006b1c4df28335dd9c4",
        "deepnote_cell_type": "code"
      },
      "outputs": [],
      "execution_count": null
    },
    {
      "cell_type": "markdown",
      "source": "",
      "metadata": {
        "formattedRanges": [],
        "cell_id": "59eca326e1764b8bad7cd36569708a9c",
        "deepnote_cell_type": "text-cell-p"
      }
    },
    {
      "cell_type": "markdown",
      "source": "# Elbow Method",
      "metadata": {
        "formattedRanges": [],
        "cell_id": "60e4b75ce0f849449be9587d34ac8c7d",
        "deepnote_cell_type": "text-cell-h1"
      }
    },
    {
      "cell_type": "code",
      "source": "# Read the data\ndata = pd.read_csv('clienttable.csv')\n\n# identify the categorical and numerical columns\nnumeric_cols = data.select_dtypes(include=[np.number]).columns\ncategorical_cols = data.select_dtypes(include=['object']).columns\n\nprint('Numeric columns:')\nfor col in numeric_cols:\n    print(f'Column name: {col}, Position: {df.columns.get_loc(col)}')\n\nprint('\\nCategorical columns:')\nfor col in categorical_cols:\n    print(f'Column name: {col}, Position: {df.columns.get_loc(col)}')",
      "metadata": {
        "source_hash": "bd028471",
        "execution_start": 1687789055087,
        "execution_millis": 172,
        "is_output_hidden": true,
        "deepnote_to_be_reexecuted": false,
        "deepnote_app_is_output_hidden": true,
        "cell_id": "fd565424bd4340f0bbde4638384a92df",
        "deepnote_cell_type": "code"
      },
      "outputs": [
        {
          "name": "stdout",
          "text": "Numeric columns:\nColumn name: client_id, Position: 0\nColumn name: total_event_count, Position: 9\nColumn name: total_sessions, Position: 11\nColumn name: total_pageviews, Position: 12\nColumn name: total_purchases, Position: 13\nColumn name: total_trade_lead_form_submit, Position: 14\nColumn name: total_residentialconsumer_lead_form_submit, Position: 15\nColumn name: total_contactus_form_submit, Position: 16\nColumn name: total_engagement_time, Position: 17\nColumn name: engaged_sessions, Position: 18\nColumn name: avg_events_per_session, Position: 19\nColumn name: avg_pageviews_per_session, Position: 22\nColumn name: bounces, Position: 24\n\nCategorical columns:\nColumn name: country, Position: 1\nColumn name: state, Position: 2\nColumn name: city, Position: 3\nColumn name: device, Position: 4\nColumn name: brand_name, Position: 5\nColumn name: model_name, Position: 6\nColumn name: operating_system, Position: 7\nColumn name: operating_system_version, Position: 8\nColumn name: first_touch, Position: 10\nColumn name: formatted_first_touch, Position: 20\nColumn name: formatted_engagement_time, Position: 21\nColumn name: engagement_rate, Position: 23\nColumn name: bounce_rate, Position: 25\n",
          "output_type": "stream"
        }
      ],
      "execution_count": 7
    },
    {
      "cell_type": "code",
      "source": "# Read the data\ndata = pd.read_csv('clienttable.csv')\n\n# Convert percentage to float\ndata['engagement_rate'] = data['engagement_rate'].str.rstrip('%').astype('float') / 100.0\ndata['bounce_rate'] = data['bounce_rate'].str.rstrip('%').astype('float') / 100.0\n\n\n# Select numerical and categorical features\nnumeric_cols = [#'total_event_count', 'total_sessions',\n'avg_events_per_session',# 'total_pageviews',\n 'total_purchases',\n                'total_trade_lead_form_submit', 'total_residentialconsumer_lead_form_submit',\n                'total_contactus_form_submit', 'total_engagement_time', 'engaged_sessions',\n                'avg_pageviews_per_session',# 'bounces',\n                 'engagement_rate', 'bounce_rate'\n                ]\n\ncategorical_cols = ['country', 'state', #'city', 'device', 'brand_name',\n                    'model_name',# 'operating_system',\n                     'operating_system_version']\n\nnumeric_features = data[numeric_cols]\ncategorical_features = data[categorical_cols]\n\n# Concatenate numerical and categorical features into one DataFrame\ndata_combined = pd.concat([numeric_features, categorical_features], axis=1)\n\n# Drop rows with NaN values\ndata_combined.dropna(inplace=True)\n\n# Find the column indices of categorical features\ncategorical_feature_indices = list(range(numeric_features.shape[1], data_combined.shape[1]))\n\n# Initialize an empty list to store the cost values\ncost = []\n\n# Define the range of cluster numbers to try\nmin_clusters = 1\nmax_clusters = 10\n\n# Perform k-prototypes clustering for different cluster numbers\nfor k in range(min_clusters, max_clusters + 1):\n    kproto = KPrototypes(n_jobs = -1, n_clusters=k, init='cao', random_state = 0)  # 'Cao' is another initializer for k-prototypes\n    clusters = kproto.fit_predict(data_combined, categorical=categorical_feature_indices)\n    # Append the cost value to the list\n    cost.append(kproto.cost_)\n\n# Plotting the elbow curve\nplt.plot(range(min_clusters, max_clusters + 1), cost, marker='o')\nplt.xlabel('Number of Clusters')\nplt.ylabel('Cost')\nplt.title('K-Prototypes Elbow Method')\nplt.show()\n",
      "metadata": {
        "source_hash": "b223a420",
        "execution_start": 1687800259030,
        "execution_millis": 1289392,
        "deepnote_to_be_reexecuted": false,
        "cell_id": "aad2248a017c444781063d50fe367b67",
        "deepnote_cell_type": "code"
      },
      "outputs": [
        {
          "output_type": "error",
          "ename": "KeyboardInterrupt",
          "evalue": "",
          "traceback": [
            "\u001b[0;31m---------------------------------------------------------------------------\u001b[0m",
            "\u001b[0;31mKeyboardInterrupt\u001b[0m                         Traceback (most recent call last)",
            "Cell \u001b[0;32mIn [10], line 45\u001b[0m\n\u001b[1;32m     43\u001b[0m \u001b[38;5;28;01mfor\u001b[39;00m k \u001b[38;5;129;01min\u001b[39;00m \u001b[38;5;28mrange\u001b[39m(min_clusters, max_clusters \u001b[38;5;241m+\u001b[39m \u001b[38;5;241m1\u001b[39m):\n\u001b[1;32m     44\u001b[0m     kproto \u001b[38;5;241m=\u001b[39m KPrototypes(n_jobs \u001b[38;5;241m=\u001b[39m \u001b[38;5;241m-\u001b[39m\u001b[38;5;241m1\u001b[39m, n_clusters\u001b[38;5;241m=\u001b[39mk, init\u001b[38;5;241m=\u001b[39m\u001b[38;5;124m'\u001b[39m\u001b[38;5;124mrandom\u001b[39m\u001b[38;5;124m'\u001b[39m, random_state \u001b[38;5;241m=\u001b[39m \u001b[38;5;241m0\u001b[39m)  \u001b[38;5;66;03m# 'Cao' is another initializer for k-prototypes\u001b[39;00m\n\u001b[0;32m---> 45\u001b[0m     clusters \u001b[38;5;241m=\u001b[39m \u001b[43mkproto\u001b[49m\u001b[38;5;241;43m.\u001b[39;49m\u001b[43mfit_predict\u001b[49m\u001b[43m(\u001b[49m\u001b[43mdata_combined\u001b[49m\u001b[43m,\u001b[49m\u001b[43m \u001b[49m\u001b[43mcategorical\u001b[49m\u001b[38;5;241;43m=\u001b[39;49m\u001b[43mcategorical_feature_indices\u001b[49m\u001b[43m)\u001b[49m\n\u001b[1;32m     46\u001b[0m     \u001b[38;5;66;03m# Append the cost value to the list\u001b[39;00m\n\u001b[1;32m     47\u001b[0m     cost\u001b[38;5;241m.\u001b[39mappend(kproto\u001b[38;5;241m.\u001b[39mcost_)\n",
            "File \u001b[0;32m~/venv/lib/python3.9/site-packages/kmodes/kmodes.py:154\u001b[0m, in \u001b[0;36mKModes.fit_predict\u001b[0;34m(self, X, y, **kwargs)\u001b[0m\n\u001b[1;32m    148\u001b[0m \u001b[38;5;28;01mdef\u001b[39;00m \u001b[38;5;21mfit_predict\u001b[39m(\u001b[38;5;28mself\u001b[39m, X, y\u001b[38;5;241m=\u001b[39m\u001b[38;5;28;01mNone\u001b[39;00m, \u001b[38;5;241m*\u001b[39m\u001b[38;5;241m*\u001b[39mkwargs):\n\u001b[1;32m    149\u001b[0m     \u001b[38;5;124;03m\"\"\"Compute cluster centroids and predict cluster index for each sample.\u001b[39;00m\n\u001b[1;32m    150\u001b[0m \n\u001b[1;32m    151\u001b[0m \u001b[38;5;124;03m    Convenience method; equivalent to calling fit(X) followed by\u001b[39;00m\n\u001b[1;32m    152\u001b[0m \u001b[38;5;124;03m    predict(X).\u001b[39;00m\n\u001b[1;32m    153\u001b[0m \u001b[38;5;124;03m    \"\"\"\u001b[39;00m\n\u001b[0;32m--> 154\u001b[0m     \u001b[38;5;28;01mreturn\u001b[39;00m \u001b[38;5;28;43mself\u001b[39;49m\u001b[38;5;241;43m.\u001b[39;49m\u001b[43mfit\u001b[49m\u001b[43m(\u001b[49m\u001b[43mX\u001b[49m\u001b[43m,\u001b[49m\u001b[43m \u001b[49m\u001b[38;5;241;43m*\u001b[39;49m\u001b[38;5;241;43m*\u001b[39;49m\u001b[43mkwargs\u001b[49m\u001b[43m)\u001b[49m\u001b[38;5;241m.\u001b[39mpredict(X, \u001b[38;5;241m*\u001b[39m\u001b[38;5;241m*\u001b[39mkwargs)\n",
            "File \u001b[0;32m~/venv/lib/python3.9/site-packages/kmodes/kprototypes.py:161\u001b[0m, in \u001b[0;36mKPrototypes.fit\u001b[0;34m(self, X, y, categorical, sample_weight)\u001b[0m\n\u001b[1;32m    155\u001b[0m kmodes\u001b[38;5;241m.\u001b[39m_validate_sample_weight(sample_weight, n_samples\u001b[38;5;241m=\u001b[39mX\u001b[38;5;241m.\u001b[39mshape[\u001b[38;5;241m0\u001b[39m],\n\u001b[1;32m    156\u001b[0m                                n_clusters\u001b[38;5;241m=\u001b[39m\u001b[38;5;28mself\u001b[39m\u001b[38;5;241m.\u001b[39mn_clusters)\n\u001b[1;32m    158\u001b[0m \u001b[38;5;66;03m# If self.gamma is None, gamma will be automatically determined from\u001b[39;00m\n\u001b[1;32m    159\u001b[0m \u001b[38;5;66;03m# the data. The function below returns its value.\u001b[39;00m\n\u001b[1;32m    160\u001b[0m \u001b[38;5;28mself\u001b[39m\u001b[38;5;241m.\u001b[39m_enc_cluster_centroids, \u001b[38;5;28mself\u001b[39m\u001b[38;5;241m.\u001b[39m_enc_map, \u001b[38;5;28mself\u001b[39m\u001b[38;5;241m.\u001b[39mlabels_, \u001b[38;5;28mself\u001b[39m\u001b[38;5;241m.\u001b[39mcost_, \\\n\u001b[0;32m--> 161\u001b[0m \u001b[38;5;28mself\u001b[39m\u001b[38;5;241m.\u001b[39mn_iter_, \u001b[38;5;28mself\u001b[39m\u001b[38;5;241m.\u001b[39mepoch_costs_, \u001b[38;5;28mself\u001b[39m\u001b[38;5;241m.\u001b[39mgamma \u001b[38;5;241m=\u001b[39m \u001b[43mk_prototypes\u001b[49m\u001b[43m(\u001b[49m\n\u001b[1;32m    162\u001b[0m \u001b[43m    \u001b[49m\u001b[43mX\u001b[49m\u001b[43m,\u001b[49m\n\u001b[1;32m    163\u001b[0m \u001b[43m    \u001b[49m\u001b[43mcategorical\u001b[49m\u001b[43m,\u001b[49m\n\u001b[1;32m    164\u001b[0m \u001b[43m    \u001b[49m\u001b[38;5;28;43mself\u001b[39;49m\u001b[38;5;241;43m.\u001b[39;49m\u001b[43mn_clusters\u001b[49m\u001b[43m,\u001b[49m\n\u001b[1;32m    165\u001b[0m \u001b[43m    \u001b[49m\u001b[38;5;28;43mself\u001b[39;49m\u001b[38;5;241;43m.\u001b[39;49m\u001b[43mmax_iter\u001b[49m\u001b[43m,\u001b[49m\n\u001b[1;32m    166\u001b[0m \u001b[43m    \u001b[49m\u001b[38;5;28;43mself\u001b[39;49m\u001b[38;5;241;43m.\u001b[39;49m\u001b[43mnum_dissim\u001b[49m\u001b[43m,\u001b[49m\n\u001b[1;32m    167\u001b[0m \u001b[43m    \u001b[49m\u001b[38;5;28;43mself\u001b[39;49m\u001b[38;5;241;43m.\u001b[39;49m\u001b[43mcat_dissim\u001b[49m\u001b[43m,\u001b[49m\n\u001b[1;32m    168\u001b[0m \u001b[43m    \u001b[49m\u001b[38;5;28;43mself\u001b[39;49m\u001b[38;5;241;43m.\u001b[39;49m\u001b[43mgamma\u001b[49m\u001b[43m,\u001b[49m\n\u001b[1;32m    169\u001b[0m \u001b[43m    \u001b[49m\u001b[38;5;28;43mself\u001b[39;49m\u001b[38;5;241;43m.\u001b[39;49m\u001b[43minit\u001b[49m\u001b[43m,\u001b[49m\n\u001b[1;32m    170\u001b[0m \u001b[43m    \u001b[49m\u001b[38;5;28;43mself\u001b[39;49m\u001b[38;5;241;43m.\u001b[39;49m\u001b[43mn_init\u001b[49m\u001b[43m,\u001b[49m\n\u001b[1;32m    171\u001b[0m \u001b[43m    \u001b[49m\u001b[38;5;28;43mself\u001b[39;49m\u001b[38;5;241;43m.\u001b[39;49m\u001b[43mverbose\u001b[49m\u001b[43m,\u001b[49m\n\u001b[1;32m    172\u001b[0m \u001b[43m    \u001b[49m\u001b[43mrandom_state\u001b[49m\u001b[43m,\u001b[49m\n\u001b[1;32m    173\u001b[0m \u001b[43m    \u001b[49m\u001b[38;5;28;43mself\u001b[39;49m\u001b[38;5;241;43m.\u001b[39;49m\u001b[43mn_jobs\u001b[49m\u001b[43m,\u001b[49m\n\u001b[1;32m    174\u001b[0m \u001b[43m    \u001b[49m\u001b[43msample_weight\u001b[49m\u001b[43m,\u001b[49m\n\u001b[1;32m    175\u001b[0m \u001b[43m\u001b[49m\u001b[43m)\u001b[49m\n\u001b[1;32m    177\u001b[0m \u001b[38;5;28;01mreturn\u001b[39;00m \u001b[38;5;28mself\u001b[39m\n",
            "File \u001b[0;32m~/venv/lib/python3.9/site-packages/kmodes/kprototypes.py:305\u001b[0m, in \u001b[0;36mk_prototypes\u001b[0;34m(X, categorical, n_clusters, max_iter, num_dissim, cat_dissim, gamma, init, n_init, verbose, random_state, n_jobs, sample_weight)\u001b[0m\n\u001b[1;32m    299\u001b[0m         results\u001b[38;5;241m.\u001b[39mappend(_k_prototypes_single(Xnum, Xcat, nnumattrs, ncatattrs,\n\u001b[1;32m    300\u001b[0m                                             n_clusters, n_points, max_iter,\n\u001b[1;32m    301\u001b[0m                                             num_dissim, cat_dissim, gamma,\n\u001b[1;32m    302\u001b[0m                                             init, init_no, verbose, seeds[init_no],\n\u001b[1;32m    303\u001b[0m                                             sample_weight))\n\u001b[1;32m    304\u001b[0m \u001b[38;5;28;01melse\u001b[39;00m:\n\u001b[0;32m--> 305\u001b[0m     results \u001b[38;5;241m=\u001b[39m \u001b[43mParallel\u001b[49m\u001b[43m(\u001b[49m\u001b[43mn_jobs\u001b[49m\u001b[38;5;241;43m=\u001b[39;49m\u001b[43mn_jobs\u001b[49m\u001b[43m,\u001b[49m\u001b[43m \u001b[49m\u001b[43mverbose\u001b[49m\u001b[38;5;241;43m=\u001b[39;49m\u001b[38;5;241;43m0\u001b[39;49m\u001b[43m)\u001b[49m\u001b[43m(\u001b[49m\n\u001b[1;32m    306\u001b[0m \u001b[43m        \u001b[49m\u001b[43mdelayed\u001b[49m\u001b[43m(\u001b[49m\u001b[43m_k_prototypes_single\u001b[49m\u001b[43m)\u001b[49m\u001b[43m(\u001b[49m\u001b[43mXnum\u001b[49m\u001b[43m,\u001b[49m\u001b[43m \u001b[49m\u001b[43mXcat\u001b[49m\u001b[43m,\u001b[49m\u001b[43m \u001b[49m\u001b[43mnnumattrs\u001b[49m\u001b[43m,\u001b[49m\u001b[43m \u001b[49m\u001b[43mncatattrs\u001b[49m\u001b[43m,\u001b[49m\n\u001b[1;32m    307\u001b[0m \u001b[43m                                      \u001b[49m\u001b[43mn_clusters\u001b[49m\u001b[43m,\u001b[49m\u001b[43m \u001b[49m\u001b[43mn_points\u001b[49m\u001b[43m,\u001b[49m\u001b[43m \u001b[49m\u001b[43mmax_iter\u001b[49m\u001b[43m,\u001b[49m\n\u001b[1;32m    308\u001b[0m \u001b[43m                                      \u001b[49m\u001b[43mnum_dissim\u001b[49m\u001b[43m,\u001b[49m\u001b[43m \u001b[49m\u001b[43mcat_dissim\u001b[49m\u001b[43m,\u001b[49m\u001b[43m \u001b[49m\u001b[43mgamma\u001b[49m\u001b[43m,\u001b[49m\n\u001b[1;32m    309\u001b[0m \u001b[43m                                      \u001b[49m\u001b[43minit\u001b[49m\u001b[43m,\u001b[49m\u001b[43m \u001b[49m\u001b[43minit_no\u001b[49m\u001b[43m,\u001b[49m\u001b[43m \u001b[49m\u001b[43mverbose\u001b[49m\u001b[43m,\u001b[49m\u001b[43m \u001b[49m\u001b[43mseed\u001b[49m\u001b[43m,\u001b[49m\u001b[43m \u001b[49m\u001b[43msample_weight\u001b[49m\u001b[43m)\u001b[49m\n\u001b[1;32m    310\u001b[0m \u001b[43m        \u001b[49m\u001b[38;5;28;43;01mfor\u001b[39;49;00m\u001b[43m \u001b[49m\u001b[43minit_no\u001b[49m\u001b[43m,\u001b[49m\u001b[43m \u001b[49m\u001b[43mseed\u001b[49m\u001b[43m \u001b[49m\u001b[38;5;129;43;01min\u001b[39;49;00m\u001b[43m \u001b[49m\u001b[38;5;28;43menumerate\u001b[39;49m\u001b[43m(\u001b[49m\u001b[43mseeds\u001b[49m\u001b[43m)\u001b[49m\u001b[43m)\u001b[49m\n\u001b[1;32m    311\u001b[0m all_centroids, all_labels, all_costs, all_n_iters, all_epoch_costs \u001b[38;5;241m=\u001b[39m \u001b[38;5;28mzip\u001b[39m(\u001b[38;5;241m*\u001b[39mresults)\n\u001b[1;32m    313\u001b[0m best \u001b[38;5;241m=\u001b[39m np\u001b[38;5;241m.\u001b[39margmin(all_costs)\n",
            "File \u001b[0;32m/shared-libs/python3.9/py/lib/python3.9/site-packages/joblib/parallel.py:1088\u001b[0m, in \u001b[0;36mParallel.__call__\u001b[0;34m(self, iterable)\u001b[0m\n\u001b[1;32m   1085\u001b[0m \u001b[38;5;28;01mif\u001b[39;00m \u001b[38;5;28mself\u001b[39m\u001b[38;5;241m.\u001b[39mdispatch_one_batch(iterator):\n\u001b[1;32m   1086\u001b[0m     \u001b[38;5;28mself\u001b[39m\u001b[38;5;241m.\u001b[39m_iterating \u001b[38;5;241m=\u001b[39m \u001b[38;5;28mself\u001b[39m\u001b[38;5;241m.\u001b[39m_original_iterator \u001b[38;5;129;01mis\u001b[39;00m \u001b[38;5;129;01mnot\u001b[39;00m \u001b[38;5;28;01mNone\u001b[39;00m\n\u001b[0;32m-> 1088\u001b[0m \u001b[38;5;28;01mwhile\u001b[39;00m \u001b[38;5;28;43mself\u001b[39;49m\u001b[38;5;241;43m.\u001b[39;49m\u001b[43mdispatch_one_batch\u001b[49m\u001b[43m(\u001b[49m\u001b[43miterator\u001b[49m\u001b[43m)\u001b[49m:\n\u001b[1;32m   1089\u001b[0m     \u001b[38;5;28;01mpass\u001b[39;00m\n\u001b[1;32m   1091\u001b[0m \u001b[38;5;28;01mif\u001b[39;00m pre_dispatch \u001b[38;5;241m==\u001b[39m \u001b[38;5;124m\"\u001b[39m\u001b[38;5;124mall\u001b[39m\u001b[38;5;124m\"\u001b[39m \u001b[38;5;129;01mor\u001b[39;00m n_jobs \u001b[38;5;241m==\u001b[39m \u001b[38;5;241m1\u001b[39m:\n\u001b[1;32m   1092\u001b[0m     \u001b[38;5;66;03m# The iterable was consumed all at once by the above for loop.\u001b[39;00m\n\u001b[1;32m   1093\u001b[0m     \u001b[38;5;66;03m# No need to wait for async callbacks to trigger to\u001b[39;00m\n\u001b[1;32m   1094\u001b[0m     \u001b[38;5;66;03m# consumption.\u001b[39;00m\n",
            "File \u001b[0;32m/shared-libs/python3.9/py/lib/python3.9/site-packages/joblib/parallel.py:901\u001b[0m, in \u001b[0;36mParallel.dispatch_one_batch\u001b[0;34m(self, iterator)\u001b[0m\n\u001b[1;32m    899\u001b[0m     \u001b[38;5;28;01mreturn\u001b[39;00m \u001b[38;5;28;01mFalse\u001b[39;00m\n\u001b[1;32m    900\u001b[0m \u001b[38;5;28;01melse\u001b[39;00m:\n\u001b[0;32m--> 901\u001b[0m     \u001b[38;5;28;43mself\u001b[39;49m\u001b[38;5;241;43m.\u001b[39;49m\u001b[43m_dispatch\u001b[49m\u001b[43m(\u001b[49m\u001b[43mtasks\u001b[49m\u001b[43m)\u001b[49m\n\u001b[1;32m    902\u001b[0m     \u001b[38;5;28;01mreturn\u001b[39;00m \u001b[38;5;28;01mTrue\u001b[39;00m\n",
            "File \u001b[0;32m/shared-libs/python3.9/py/lib/python3.9/site-packages/joblib/parallel.py:819\u001b[0m, in \u001b[0;36mParallel._dispatch\u001b[0;34m(self, batch)\u001b[0m\n\u001b[1;32m    817\u001b[0m \u001b[38;5;28;01mwith\u001b[39;00m \u001b[38;5;28mself\u001b[39m\u001b[38;5;241m.\u001b[39m_lock:\n\u001b[1;32m    818\u001b[0m     job_idx \u001b[38;5;241m=\u001b[39m \u001b[38;5;28mlen\u001b[39m(\u001b[38;5;28mself\u001b[39m\u001b[38;5;241m.\u001b[39m_jobs)\n\u001b[0;32m--> 819\u001b[0m     job \u001b[38;5;241m=\u001b[39m \u001b[38;5;28;43mself\u001b[39;49m\u001b[38;5;241;43m.\u001b[39;49m\u001b[43m_backend\u001b[49m\u001b[38;5;241;43m.\u001b[39;49m\u001b[43mapply_async\u001b[49m\u001b[43m(\u001b[49m\u001b[43mbatch\u001b[49m\u001b[43m,\u001b[49m\u001b[43m \u001b[49m\u001b[43mcallback\u001b[49m\u001b[38;5;241;43m=\u001b[39;49m\u001b[43mcb\u001b[49m\u001b[43m)\u001b[49m\n\u001b[1;32m    820\u001b[0m     \u001b[38;5;66;03m# A job can complete so quickly than its callback is\u001b[39;00m\n\u001b[1;32m    821\u001b[0m     \u001b[38;5;66;03m# called before we get here, causing self._jobs to\u001b[39;00m\n\u001b[1;32m    822\u001b[0m     \u001b[38;5;66;03m# grow. To ensure correct results ordering, .insert is\u001b[39;00m\n\u001b[1;32m    823\u001b[0m     \u001b[38;5;66;03m# used (rather than .append) in the following line\u001b[39;00m\n\u001b[1;32m    824\u001b[0m     \u001b[38;5;28mself\u001b[39m\u001b[38;5;241m.\u001b[39m_jobs\u001b[38;5;241m.\u001b[39minsert(job_idx, job)\n",
            "File \u001b[0;32m/shared-libs/python3.9/py/lib/python3.9/site-packages/joblib/_parallel_backends.py:208\u001b[0m, in \u001b[0;36mSequentialBackend.apply_async\u001b[0;34m(self, func, callback)\u001b[0m\n\u001b[1;32m    206\u001b[0m \u001b[38;5;28;01mdef\u001b[39;00m \u001b[38;5;21mapply_async\u001b[39m(\u001b[38;5;28mself\u001b[39m, func, callback\u001b[38;5;241m=\u001b[39m\u001b[38;5;28;01mNone\u001b[39;00m):\n\u001b[1;32m    207\u001b[0m     \u001b[38;5;124;03m\"\"\"Schedule a func to be run\"\"\"\u001b[39;00m\n\u001b[0;32m--> 208\u001b[0m     result \u001b[38;5;241m=\u001b[39m \u001b[43mImmediateResult\u001b[49m\u001b[43m(\u001b[49m\u001b[43mfunc\u001b[49m\u001b[43m)\u001b[49m\n\u001b[1;32m    209\u001b[0m     \u001b[38;5;28;01mif\u001b[39;00m callback:\n\u001b[1;32m    210\u001b[0m         callback(result)\n",
            "File \u001b[0;32m/shared-libs/python3.9/py/lib/python3.9/site-packages/joblib/_parallel_backends.py:597\u001b[0m, in \u001b[0;36mImmediateResult.__init__\u001b[0;34m(self, batch)\u001b[0m\n\u001b[1;32m    594\u001b[0m \u001b[38;5;28;01mdef\u001b[39;00m \u001b[38;5;21m__init__\u001b[39m(\u001b[38;5;28mself\u001b[39m, batch):\n\u001b[1;32m    595\u001b[0m     \u001b[38;5;66;03m# Don't delay the application, to avoid keeping the input\u001b[39;00m\n\u001b[1;32m    596\u001b[0m     \u001b[38;5;66;03m# arguments in memory\u001b[39;00m\n\u001b[0;32m--> 597\u001b[0m     \u001b[38;5;28mself\u001b[39m\u001b[38;5;241m.\u001b[39mresults \u001b[38;5;241m=\u001b[39m \u001b[43mbatch\u001b[49m\u001b[43m(\u001b[49m\u001b[43m)\u001b[49m\n",
            "File \u001b[0;32m/shared-libs/python3.9/py/lib/python3.9/site-packages/joblib/parallel.py:288\u001b[0m, in \u001b[0;36mBatchedCalls.__call__\u001b[0;34m(self)\u001b[0m\n\u001b[1;32m    284\u001b[0m \u001b[38;5;28;01mdef\u001b[39;00m \u001b[38;5;21m__call__\u001b[39m(\u001b[38;5;28mself\u001b[39m):\n\u001b[1;32m    285\u001b[0m     \u001b[38;5;66;03m# Set the default nested backend to self._backend but do not set the\u001b[39;00m\n\u001b[1;32m    286\u001b[0m     \u001b[38;5;66;03m# change the default number of processes to -1\u001b[39;00m\n\u001b[1;32m    287\u001b[0m     \u001b[38;5;28;01mwith\u001b[39;00m parallel_backend(\u001b[38;5;28mself\u001b[39m\u001b[38;5;241m.\u001b[39m_backend, n_jobs\u001b[38;5;241m=\u001b[39m\u001b[38;5;28mself\u001b[39m\u001b[38;5;241m.\u001b[39m_n_jobs):\n\u001b[0;32m--> 288\u001b[0m         \u001b[38;5;28;01mreturn\u001b[39;00m [func(\u001b[38;5;241m*\u001b[39margs, \u001b[38;5;241m*\u001b[39m\u001b[38;5;241m*\u001b[39mkwargs)\n\u001b[1;32m    289\u001b[0m                 \u001b[38;5;28;01mfor\u001b[39;00m func, args, kwargs \u001b[38;5;129;01min\u001b[39;00m \u001b[38;5;28mself\u001b[39m\u001b[38;5;241m.\u001b[39mitems]\n",
            "File \u001b[0;32m/shared-libs/python3.9/py/lib/python3.9/site-packages/joblib/parallel.py:288\u001b[0m, in \u001b[0;36m<listcomp>\u001b[0;34m(.0)\u001b[0m\n\u001b[1;32m    284\u001b[0m \u001b[38;5;28;01mdef\u001b[39;00m \u001b[38;5;21m__call__\u001b[39m(\u001b[38;5;28mself\u001b[39m):\n\u001b[1;32m    285\u001b[0m     \u001b[38;5;66;03m# Set the default nested backend to self._backend but do not set the\u001b[39;00m\n\u001b[1;32m    286\u001b[0m     \u001b[38;5;66;03m# change the default number of processes to -1\u001b[39;00m\n\u001b[1;32m    287\u001b[0m     \u001b[38;5;28;01mwith\u001b[39;00m parallel_backend(\u001b[38;5;28mself\u001b[39m\u001b[38;5;241m.\u001b[39m_backend, n_jobs\u001b[38;5;241m=\u001b[39m\u001b[38;5;28mself\u001b[39m\u001b[38;5;241m.\u001b[39m_n_jobs):\n\u001b[0;32m--> 288\u001b[0m         \u001b[38;5;28;01mreturn\u001b[39;00m [\u001b[43mfunc\u001b[49m\u001b[43m(\u001b[49m\u001b[38;5;241;43m*\u001b[39;49m\u001b[43margs\u001b[49m\u001b[43m,\u001b[49m\u001b[43m \u001b[49m\u001b[38;5;241;43m*\u001b[39;49m\u001b[38;5;241;43m*\u001b[39;49m\u001b[43mkwargs\u001b[49m\u001b[43m)\u001b[49m\n\u001b[1;32m    289\u001b[0m                 \u001b[38;5;28;01mfor\u001b[39;00m func, args, kwargs \u001b[38;5;129;01min\u001b[39;00m \u001b[38;5;28mself\u001b[39m\u001b[38;5;241m.\u001b[39mitems]\n",
            "File \u001b[0;32m~/venv/lib/python3.9/site-packages/kmodes/kprototypes.py:398\u001b[0m, in \u001b[0;36m_k_prototypes_single\u001b[0;34m(Xnum, Xcat, nnumattrs, ncatattrs, n_clusters, n_points, max_iter, num_dissim, cat_dissim, gamma, init, init_no, verbose, random_state, sample_weight)\u001b[0m\n\u001b[1;32m    396\u001b[0m     \u001b[38;5;28;01mfor\u001b[39;00m iattr, curattr \u001b[38;5;129;01min\u001b[39;00m \u001b[38;5;28menumerate\u001b[39m(Xnum[ipoint]):\n\u001b[1;32m    397\u001b[0m         cl_attr_sum[clust, iattr] \u001b[38;5;241m+\u001b[39m\u001b[38;5;241m=\u001b[39m curattr \u001b[38;5;241m*\u001b[39m weight\n\u001b[0;32m--> 398\u001b[0m     \u001b[38;5;28;01mfor\u001b[39;00m iattr, curattr \u001b[38;5;129;01min\u001b[39;00m \u001b[38;5;28menumerate\u001b[39m(Xcat[ipoint]):\n\u001b[1;32m    399\u001b[0m         cl_attr_freq[clust][iattr][curattr] \u001b[38;5;241m+\u001b[39m\u001b[38;5;241m=\u001b[39m weight\n\u001b[1;32m    401\u001b[0m \u001b[38;5;66;03m# If no empty clusters, then consider initialization finalized.\u001b[39;00m\n",
            "\u001b[0;31mKeyboardInterrupt\u001b[0m: "
          ]
        }
      ],
      "execution_count": 10
    },
    {
      "cell_type": "code",
      "source": "data = pd.read_csv('clienttable.csv')\n\nnumeric_features = data.iloc[:, [10,12,13,14,15,16,17,18,19 ]].values\ncategorical_features = data.iloc[:, [2,3,4,5,6,7,8,9]].values \n# numeric_features:  total_event_count,total_sessions,total_pageviews, total_purchases, total_trade_form.., total_residential_form..., total_contactus_form...,\n# categorical_features: country, state, city, device, brand_name, model_name, operating system, system_version\n\n# Initialize an empty list to store the cost values\ncost = []\n\n# Define the range of cluster numbers to try\nmin_clusters = 1\nmax_clusters = 10\n\n# Perform k-prototypes clustering for different cluster numbers\nfor k in range(min_clusters, max_clusters + 1):\n\n    kproto = KPrototypes(n_clusters=k)\n    \n    # Fit the model to the data\n    clusters = kproto.fit_predict(numeric_features, categorical_features)\n    \n    # Append the cost value to the list\n    cost.append(kproto.cost_)\n\n# Plotting the elbow curve\nplt.plot(range(min_clusters, max_clusters + 1), cost, marker='o')\nplt.xlabel('Number of Clusters')\nplt.ylabel('Cost')\nplt.title('K-Prototypes Elbow Method')\nplt.show()\n\n",
      "metadata": {
        "source_hash": "6b5810ae",
        "execution_start": 1687541088137,
        "execution_millis": 111,
        "deepnote_to_be_reexecuted": true,
        "cell_id": "5c47b57ed1cc4e2a900e71629a80bd64",
        "deepnote_cell_type": "code"
      },
      "outputs": [],
      "execution_count": 12
    },
    {
      "cell_type": "code",
      "source": "import pandas as pd\nfrom kmodes.kprototypes import KPrototypes\nimport matplotlib.pyplot as plt\n\nimport pandas as pd\nfrom kmodes.kprototypes import KPrototypes\nimport matplotlib.pyplot as plt\n\n# Load the data\ndata = pd.read_csv('clienttable.csv')\n\n# Select the numeric and categorical features separately\nnumeric_features = data.iloc[:, [10, 12, 13, 14, 15, 16, 17, 18, 19]].values\ncategorical_features = data[['country', 'state', 'city', 'device', 'brand_name', 'model_name', 'operating_system', 'operating_system_version']].values\n\n# Define the range of cluster numbers to try\nmin_clusters = 1\nmax_clusters = 10\n\n# Initialize an empty list to store the cost values\ncost = []\n\n# Perform k-prototypes clustering for different cluster numbers\nfor k in range(min_clusters, max_clusters + 1):\n    # Create a KPrototypes instance with k clusters\n    kproto = KPrototypes(n_clusters=k)\n\n    # Fit the model to the data\n    clusters = kproto.fit_predict(numeric_features, categorical_features)\n\n    # Append the cost value to the list\n    cost.append(kproto.cost_)\n\n# Plot the elbow curve\nplt.plot(range(min_clusters, max_clusters + 1), cost, marker='o')\nplt.xlabel('Number of Clusters')\nplt.ylabel('Cost')\nplt.title('K-Prototypes Elbow Method')\nplt.show()\n",
      "metadata": {
        "source_hash": "938307d9",
        "execution_start": 1687459588896,
        "execution_millis": 119,
        "deepnote_to_be_reexecuted": true,
        "cell_id": "c7eb95e7b4a048aab8f0d4252b515db0",
        "deepnote_cell_type": "code"
      },
      "outputs": [],
      "execution_count": null
    },
    {
      "cell_type": "code",
      "source": "df.describe().T",
      "metadata": {
        "source_hash": "89e09888",
        "execution_start": 1687384532520,
        "execution_millis": 58,
        "deepnote_to_be_reexecuted": true,
        "cell_id": "5b171a92ad664f16a31d7429b4dbf5aa",
        "deepnote_cell_type": "code"
      },
      "outputs": [],
      "execution_count": null
    },
    {
      "cell_type": "markdown",
      "source": "# K Prototype ",
      "metadata": {
        "formattedRanges": [],
        "cell_id": "9de32b57e53f4c1b867422a3f4c7a975",
        "deepnote_cell_type": "text-cell-h1"
      }
    },
    {
      "cell_type": "code",
      "source": "",
      "metadata": {
        "source_hash": "b623e53d",
        "is_code_hidden": false,
        "execution_start": 1687376249255,
        "execution_millis": 2,
        "deepnote_to_be_reexecuted": true,
        "deepnote_app_is_code_hidden": true,
        "cell_id": "e5e24030b51c4f45a31f69b3880fd03a",
        "deepnote_cell_type": "code"
      },
      "outputs": [],
      "execution_count": null
    },
    {
      "cell_type": "markdown",
      "source": "# Apply Clusters to Pagetable",
      "metadata": {
        "formattedRanges": [],
        "cell_id": "03357bbd402c4bb9b2de3e2fedada62e",
        "deepnote_cell_type": "text-cell-h1"
      }
    },
    {
      "cell_type": "code",
      "source": "",
      "metadata": {
        "source_hash": "b623e53d",
        "execution_start": 1686859175168,
        "execution_millis": 7,
        "deepnote_to_be_reexecuted": true,
        "cell_id": "9dbe521965a5458f944ede27b2299950",
        "deepnote_cell_type": "code"
      },
      "outputs": [],
      "execution_count": null
    },
    {
      "cell_type": "markdown",
      "source": "# EDA on Pagetable",
      "metadata": {
        "formattedRanges": [],
        "cell_id": "adb7f876fcd347f491dff0c6948e9c43",
        "deepnote_cell_type": "text-cell-h1"
      }
    },
    {
      "cell_type": "code",
      "source": "",
      "metadata": {
        "source_hash": "b623e53d",
        "execution_start": 1686859175176,
        "execution_millis": 8,
        "deepnote_to_be_reexecuted": true,
        "cell_id": "035bfd84915647da91d0d210c0505d34",
        "deepnote_cell_type": "code"
      },
      "outputs": [],
      "execution_count": null
    },
    {
      "cell_type": "markdown",
      "source": "# Apply Characteristics",
      "metadata": {
        "formattedRanges": [],
        "cell_id": "c94a674bb1d64ab7994b02de54a16972",
        "deepnote_cell_type": "text-cell-h1"
      }
    },
    {
      "cell_type": "code",
      "source": "",
      "metadata": {
        "source_hash": "b623e53d",
        "execution_start": 1686859175176,
        "execution_millis": 8,
        "deepnote_to_be_reexecuted": true,
        "cell_id": "f4e27cce9a5849ac8e80b1c3017549ad",
        "deepnote_cell_type": "code"
      },
      "outputs": [],
      "execution_count": null
    },
    {
      "cell_type": "markdown",
      "source": "<a style='text-decoration:none;line-height:16px;display:flex;color:#5B5B62;padding:10px;justify-content:end;' href='https://deepnote.com?utm_source=created-in-deepnote-cell&projectId=c07d89ac-5a96-494b-a3e5-c0b991068de9' target=\"_blank\">\n<img alt='Created in deepnote.com' style='display:inline;max-height:16px;margin:0px;margin-right:7.5px;' src='data:image/svg+xml;base64,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' > </img>\nCreated in <span style='font-weight:600;margin-left:4px;'>Deepnote</span></a>",
      "metadata": {
        "created_in_deepnote_cell": true,
        "deepnote_cell_type": "markdown"
      }
    }
  ],
  "nbformat": 4,
  "nbformat_minor": 0,
  "metadata": {
    "deepnote": {},
    "orig_nbformat": 2,
    "deepnote_notebook_id": "610fb4b66c744e8588360a90488a3ef2",
    "deepnote_persisted_session": {
      "createdAt": "2023-06-26T13:32:09.801Z"
    },
    "deepnote_execution_queue": []
  }
}